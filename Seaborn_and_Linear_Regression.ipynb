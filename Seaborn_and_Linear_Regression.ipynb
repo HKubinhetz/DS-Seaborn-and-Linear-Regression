{
  "nbformat": 4,
  "nbformat_minor": 0,
  "metadata": {
    "colab": {
      "name": "Seaborn and Linear Regression.ipynb",
      "provenance": [],
      "include_colab_link": true
    },
    "kernelspec": {
      "name": "python3",
      "display_name": "Python 3"
    }
  },
  "cells": [
    {
      "cell_type": "markdown",
      "metadata": {
        "id": "view-in-github",
        "colab_type": "text"
      },
      "source": [
        "<a href=\"https://colab.research.google.com/github/HKubinhetz/DS-Seaborn-and-Linear-Regression/blob/main/Seaborn_and_Linear_Regression.ipynb\" target=\"_parent\"><img src=\"https://colab.research.google.com/assets/colab-badge.svg\" alt=\"Open In Colab\"/></a>"
      ]
    },
    {
      "cell_type": "markdown",
      "metadata": {
        "id": "gltiGJhvrzaL"
      },
      "source": [
        "# Introduction\n",
        "\n",
        "Do higher film budgets lead to more box office revenue? Let's find out if there's a relationship using the movie budgets and financial performance data that I've scraped from [the-numbers.com](https://www.the-numbers.com/movie/budgets) on **May 1st, 2018**. \n",
        "\n",
        "<img src=https://i.imgur.com/kq7hrEh.png>"
      ]
    },
    {
      "cell_type": "markdown",
      "metadata": {
        "id": "zkLrvlKvtdih"
      },
      "source": [
        "# Import Statements"
      ]
    },
    {
      "cell_type": "code",
      "metadata": {
        "id": "NpDk_q_Urroj"
      },
      "source": [
        "import pandas as pd\n",
        "import matplotlib.pyplot as plt\n"
      ],
      "execution_count": 1,
      "outputs": []
    },
    {
      "cell_type": "markdown",
      "metadata": {
        "id": "x5B-UDvXtnC6"
      },
      "source": [
        "# Notebook Presentation"
      ]
    },
    {
      "cell_type": "code",
      "metadata": {
        "id": "nM_otvWztjpT"
      },
      "source": [
        "pd.options.display.float_format = '{:,.2f}'.format\n",
        "\n",
        "from pandas.plotting import register_matplotlib_converters\n",
        "register_matplotlib_converters()"
      ],
      "execution_count": 2,
      "outputs": []
    },
    {
      "cell_type": "markdown",
      "metadata": {
        "id": "v-fnwNYJtthe"
      },
      "source": [
        "# Read the Data"
      ]
    },
    {
      "cell_type": "code",
      "metadata": {
        "id": "xhwvQQWitrf4",
        "colab": {
          "base_uri": "https://localhost:8080/"
        },
        "outputId": "d8d7f7c4-25d5-4732-c31f-0562ac678ea6"
      },
      "source": [
        "from google.colab import drive\n",
        "drive.mount('/content/drive')\n",
        "data = pd.read_csv('/content/drive/MyDrive/PythonDS/07 - Seaborn and Linear Regression/cost_revenue_dirty.csv')"
      ],
      "execution_count": 5,
      "outputs": [
        {
          "output_type": "stream",
          "name": "stdout",
          "text": [
            "Drive already mounted at /content/drive; to attempt to forcibly remount, call drive.mount(\"/content/drive\", force_remount=True).\n"
          ]
        }
      ]
    },
    {
      "cell_type": "markdown",
      "metadata": {
        "id": "tbg8_J5SuHhs"
      },
      "source": [
        "# Explore and Clean the Data"
      ]
    },
    {
      "cell_type": "markdown",
      "metadata": {
        "id": "xAtdcURCuL0Z"
      },
      "source": [
        "**Challenge**: Answer these questions about the dataset:\n",
        "1. How many rows and columns does the dataset contain?\n",
        "2. Are there any NaN values present?\n",
        "3. Are there any duplicate rows?\n",
        "4. What are the data types of the columns?"
      ]
    },
    {
      "cell_type": "code",
      "metadata": {
        "id": "PV3KLBSVTMDN",
        "colab": {
          "base_uri": "https://localhost:8080/"
        },
        "outputId": "97086965-8e9d-4fcd-c08f-66655c827e2a"
      },
      "source": [
        "# How many rows and columns does the dataset contain?\n",
        "data.shape"
      ],
      "execution_count": 8,
      "outputs": [
        {
          "output_type": "execute_result",
          "data": {
            "text/plain": [
              "(5391, 6)"
            ]
          },
          "metadata": {},
          "execution_count": 8
        }
      ]
    },
    {
      "cell_type": "code",
      "source": [
        "# Are there any NaN values present?\n",
        "data.isna().any()"
      ],
      "metadata": {
        "colab": {
          "base_uri": "https://localhost:8080/"
        },
        "id": "MycP8pfuFewc",
        "outputId": "4bfb4fb2-b962-4d56-ec86-886d1dfd6236"
      },
      "execution_count": 11,
      "outputs": [
        {
          "output_type": "execute_result",
          "data": {
            "text/plain": [
              "Rank                     False\n",
              "Release_Date             False\n",
              "Movie_Title              False\n",
              "USD_Production_Budget    False\n",
              "USD_Worldwide_Gross      False\n",
              "USD_Domestic_Gross       False\n",
              "dtype: bool"
            ]
          },
          "metadata": {},
          "execution_count": 11
        }
      ]
    },
    {
      "cell_type": "code",
      "source": [
        "# Are there any duplicate rows?\n",
        "data.duplicated().any()"
      ],
      "metadata": {
        "colab": {
          "base_uri": "https://localhost:8080/"
        },
        "id": "JPGZkeBLFrZY",
        "outputId": "2afec625-44e1-45af-ee07-7ed7d135bf75"
      },
      "execution_count": 14,
      "outputs": [
        {
          "output_type": "execute_result",
          "data": {
            "text/plain": [
              "False"
            ]
          },
          "metadata": {},
          "execution_count": 14
        }
      ]
    },
    {
      "cell_type": "code",
      "source": [
        "# What are the data types of the columns?\n",
        "data.info()"
      ],
      "metadata": {
        "colab": {
          "base_uri": "https://localhost:8080/"
        },
        "id": "ZB5IZ6htFzSj",
        "outputId": "d111f89a-f24d-4df7-a3c1-f92aff9c89ce"
      },
      "execution_count": 19,
      "outputs": [
        {
          "output_type": "stream",
          "name": "stdout",
          "text": [
            "<class 'pandas.core.frame.DataFrame'>\n",
            "RangeIndex: 5391 entries, 0 to 5390\n",
            "Data columns (total 6 columns):\n",
            " #   Column                 Non-Null Count  Dtype \n",
            "---  ------                 --------------  ----- \n",
            " 0   Rank                   5391 non-null   int64 \n",
            " 1   Release_Date           5391 non-null   object\n",
            " 2   Movie_Title            5391 non-null   object\n",
            " 3   USD_Production_Budget  5391 non-null   object\n",
            " 4   USD_Worldwide_Gross    5391 non-null   object\n",
            " 5   USD_Domestic_Gross     5391 non-null   object\n",
            "dtypes: int64(1), object(5)\n",
            "memory usage: 252.8+ KB\n"
          ]
        }
      ]
    },
    {
      "cell_type": "markdown",
      "metadata": {
        "id": "v8spadDNvpVG"
      },
      "source": [
        "### Data Type Conversions"
      ]
    },
    {
      "cell_type": "markdown",
      "metadata": {
        "id": "9F8KFST4ulrd"
      },
      "source": [
        "**Challenge**: Convert the `USD_Production_Budget`, `USD_Worldwide_Gross`, and `USD_Domestic_Gross` columns to a numeric format by removing `$` signs and `,`. \n",
        "<br>\n",
        "<br>\n",
        "Note that *domestic* in this context refers to the United States."
      ]
    },
    {
      "cell_type": "code",
      "metadata": {
        "id": "BmdCbLf-TPXk",
        "colab": {
          "base_uri": "https://localhost:8080/",
          "height": 206
        },
        "outputId": "5c1506a9-268e-45fd-8327-3c1f3fdcc54e"
      },
      "source": [
        "data.sample(5)"
      ],
      "execution_count": 23,
      "outputs": [
        {
          "output_type": "execute_result",
          "data": {
            "text/plain": [
              "      Rank Release_Date                     Movie_Title USD_Production_Budget  \\\n",
              "2693  5055    6/16/2006                        Wordplay              $500,000   \n",
              "1093  4277    5/27/1998              I Got the Hook-Up!            $3,500,000   \n",
              "158   4855     1/1/1970  Beyond the Valley of the Dolls            $1,000,000   \n",
              "777   4268    4/26/1995                          Friday            $3,500,000   \n",
              "4058  3090   12/23/2011  In The Land of Blood and Honey           $13,000,000   \n",
              "\n",
              "     USD_Worldwide_Gross USD_Domestic_Gross  \n",
              "2693          $3,177,636         $3,121,270  \n",
              "1093         $10,317,779        $10,317,779  \n",
              "158           $9,000,000         $9,000,000  \n",
              "777          $27,936,778        $27,467,564  \n",
              "4058            $509,193           $303,877  "
            ],
            "text/html": [
              "\n",
              "  <div id=\"df-b88bfc07-81b1-457a-b20c-27eec3a4a9d6\">\n",
              "    <div class=\"colab-df-container\">\n",
              "      <div>\n",
              "<style scoped>\n",
              "    .dataframe tbody tr th:only-of-type {\n",
              "        vertical-align: middle;\n",
              "    }\n",
              "\n",
              "    .dataframe tbody tr th {\n",
              "        vertical-align: top;\n",
              "    }\n",
              "\n",
              "    .dataframe thead th {\n",
              "        text-align: right;\n",
              "    }\n",
              "</style>\n",
              "<table border=\"1\" class=\"dataframe\">\n",
              "  <thead>\n",
              "    <tr style=\"text-align: right;\">\n",
              "      <th></th>\n",
              "      <th>Rank</th>\n",
              "      <th>Release_Date</th>\n",
              "      <th>Movie_Title</th>\n",
              "      <th>USD_Production_Budget</th>\n",
              "      <th>USD_Worldwide_Gross</th>\n",
              "      <th>USD_Domestic_Gross</th>\n",
              "    </tr>\n",
              "  </thead>\n",
              "  <tbody>\n",
              "    <tr>\n",
              "      <th>2693</th>\n",
              "      <td>5055</td>\n",
              "      <td>6/16/2006</td>\n",
              "      <td>Wordplay</td>\n",
              "      <td>$500,000</td>\n",
              "      <td>$3,177,636</td>\n",
              "      <td>$3,121,270</td>\n",
              "    </tr>\n",
              "    <tr>\n",
              "      <th>1093</th>\n",
              "      <td>4277</td>\n",
              "      <td>5/27/1998</td>\n",
              "      <td>I Got the Hook-Up!</td>\n",
              "      <td>$3,500,000</td>\n",
              "      <td>$10,317,779</td>\n",
              "      <td>$10,317,779</td>\n",
              "    </tr>\n",
              "    <tr>\n",
              "      <th>158</th>\n",
              "      <td>4855</td>\n",
              "      <td>1/1/1970</td>\n",
              "      <td>Beyond the Valley of the Dolls</td>\n",
              "      <td>$1,000,000</td>\n",
              "      <td>$9,000,000</td>\n",
              "      <td>$9,000,000</td>\n",
              "    </tr>\n",
              "    <tr>\n",
              "      <th>777</th>\n",
              "      <td>4268</td>\n",
              "      <td>4/26/1995</td>\n",
              "      <td>Friday</td>\n",
              "      <td>$3,500,000</td>\n",
              "      <td>$27,936,778</td>\n",
              "      <td>$27,467,564</td>\n",
              "    </tr>\n",
              "    <tr>\n",
              "      <th>4058</th>\n",
              "      <td>3090</td>\n",
              "      <td>12/23/2011</td>\n",
              "      <td>In The Land of Blood and Honey</td>\n",
              "      <td>$13,000,000</td>\n",
              "      <td>$509,193</td>\n",
              "      <td>$303,877</td>\n",
              "    </tr>\n",
              "  </tbody>\n",
              "</table>\n",
              "</div>\n",
              "      <button class=\"colab-df-convert\" onclick=\"convertToInteractive('df-b88bfc07-81b1-457a-b20c-27eec3a4a9d6')\"\n",
              "              title=\"Convert this dataframe to an interactive table.\"\n",
              "              style=\"display:none;\">\n",
              "        \n",
              "  <svg xmlns=\"http://www.w3.org/2000/svg\" height=\"24px\"viewBox=\"0 0 24 24\"\n",
              "       width=\"24px\">\n",
              "    <path d=\"M0 0h24v24H0V0z\" fill=\"none\"/>\n",
              "    <path d=\"M18.56 5.44l.94 2.06.94-2.06 2.06-.94-2.06-.94-.94-2.06-.94 2.06-2.06.94zm-11 1L8.5 8.5l.94-2.06 2.06-.94-2.06-.94L8.5 2.5l-.94 2.06-2.06.94zm10 10l.94 2.06.94-2.06 2.06-.94-2.06-.94-.94-2.06-.94 2.06-2.06.94z\"/><path d=\"M17.41 7.96l-1.37-1.37c-.4-.4-.92-.59-1.43-.59-.52 0-1.04.2-1.43.59L10.3 9.45l-7.72 7.72c-.78.78-.78 2.05 0 2.83L4 21.41c.39.39.9.59 1.41.59.51 0 1.02-.2 1.41-.59l7.78-7.78 2.81-2.81c.8-.78.8-2.07 0-2.86zM5.41 20L4 18.59l7.72-7.72 1.47 1.35L5.41 20z\"/>\n",
              "  </svg>\n",
              "      </button>\n",
              "      \n",
              "  <style>\n",
              "    .colab-df-container {\n",
              "      display:flex;\n",
              "      flex-wrap:wrap;\n",
              "      gap: 12px;\n",
              "    }\n",
              "\n",
              "    .colab-df-convert {\n",
              "      background-color: #E8F0FE;\n",
              "      border: none;\n",
              "      border-radius: 50%;\n",
              "      cursor: pointer;\n",
              "      display: none;\n",
              "      fill: #1967D2;\n",
              "      height: 32px;\n",
              "      padding: 0 0 0 0;\n",
              "      width: 32px;\n",
              "    }\n",
              "\n",
              "    .colab-df-convert:hover {\n",
              "      background-color: #E2EBFA;\n",
              "      box-shadow: 0px 1px 2px rgba(60, 64, 67, 0.3), 0px 1px 3px 1px rgba(60, 64, 67, 0.15);\n",
              "      fill: #174EA6;\n",
              "    }\n",
              "\n",
              "    [theme=dark] .colab-df-convert {\n",
              "      background-color: #3B4455;\n",
              "      fill: #D2E3FC;\n",
              "    }\n",
              "\n",
              "    [theme=dark] .colab-df-convert:hover {\n",
              "      background-color: #434B5C;\n",
              "      box-shadow: 0px 1px 3px 1px rgba(0, 0, 0, 0.15);\n",
              "      filter: drop-shadow(0px 1px 2px rgba(0, 0, 0, 0.3));\n",
              "      fill: #FFFFFF;\n",
              "    }\n",
              "  </style>\n",
              "\n",
              "      <script>\n",
              "        const buttonEl =\n",
              "          document.querySelector('#df-b88bfc07-81b1-457a-b20c-27eec3a4a9d6 button.colab-df-convert');\n",
              "        buttonEl.style.display =\n",
              "          google.colab.kernel.accessAllowed ? 'block' : 'none';\n",
              "\n",
              "        async function convertToInteractive(key) {\n",
              "          const element = document.querySelector('#df-b88bfc07-81b1-457a-b20c-27eec3a4a9d6');\n",
              "          const dataTable =\n",
              "            await google.colab.kernel.invokeFunction('convertToInteractive',\n",
              "                                                     [key], {});\n",
              "          if (!dataTable) return;\n",
              "\n",
              "          const docLinkHtml = 'Like what you see? Visit the ' +\n",
              "            '<a target=\"_blank\" href=https://colab.research.google.com/notebooks/data_table.ipynb>data table notebook</a>'\n",
              "            + ' to learn more about interactive tables.';\n",
              "          element.innerHTML = '';\n",
              "          dataTable['output_type'] = 'display_data';\n",
              "          await google.colab.output.renderOutput(dataTable, element);\n",
              "          const docLink = document.createElement('div');\n",
              "          docLink.innerHTML = docLinkHtml;\n",
              "          element.appendChild(docLink);\n",
              "        }\n",
              "      </script>\n",
              "    </div>\n",
              "  </div>\n",
              "  "
            ]
          },
          "metadata": {},
          "execution_count": 23
        }
      ]
    },
    {
      "cell_type": "code",
      "source": [
        "clean_df = data\n",
        "clean_df[\"USD_Production_Budget\"] = clean_df[\"USD_Production_Budget\"].str.replace('$', \"\").replace(',', \"\")\n",
        "clean_df[\"USD_Worldwide_Gross\"] = clean_df[\"USD_Worldwide_Gross\"].str.replace('$', \"\").replace(',', \"\")\n",
        "clean_df[\"USD_Domestic_Gross\"] = clean_df[\"USD_Domestic_Gross\"].str.replace('$', \"\").replace(',', \"\")\n",
        "clean_df.sample(5)"
      ],
      "metadata": {
        "colab": {
          "base_uri": "https://localhost:8080/",
          "height": 330
        },
        "id": "jdr0A34dIGzp",
        "outputId": "b5fd185b-f683-459f-cbfe-05fd8e7ff3fa"
      },
      "execution_count": 27,
      "outputs": [
        {
          "output_type": "stream",
          "name": "stderr",
          "text": [
            "/usr/local/lib/python3.7/dist-packages/ipykernel_launcher.py:2: FutureWarning: The default value of regex will change from True to False in a future version. In addition, single character regular expressions will *not* be treated as literal strings when regex=True.\n",
            "  \n",
            "/usr/local/lib/python3.7/dist-packages/ipykernel_launcher.py:3: FutureWarning: The default value of regex will change from True to False in a future version. In addition, single character regular expressions will *not* be treated as literal strings when regex=True.\n",
            "  This is separate from the ipykernel package so we can avoid doing imports until\n",
            "/usr/local/lib/python3.7/dist-packages/ipykernel_launcher.py:4: FutureWarning: The default value of regex will change from True to False in a future version. In addition, single character regular expressions will *not* be treated as literal strings when regex=True.\n",
            "  after removing the cwd from sys.path.\n"
          ]
        },
        {
          "output_type": "execute_result",
          "data": {
            "text/plain": [
              "      Rank Release_Date                 Movie_Title USD_Production_Budget  \\\n",
              "4692  1055   10/10/2014                   The Judge            50,000,000   \n",
              "2070   645     8/8/2003                    S.W.A.T.            70,000,000   \n",
              "3578  2333     2/4/2010  Why Did I Get Married Too?            20,000,000   \n",
              "3717  2630    8/20/2010           Mao's Last Dancer            18,000,000   \n",
              "987   2049    7/18/1997             Nothing To Lose            25,000,000   \n",
              "\n",
              "     USD_Worldwide_Gross USD_Domestic_Gross  \n",
              "4692          76,119,388         47,119,388  \n",
              "2070         207,154,748        116,877,597  \n",
              "3578          60,831,067         60,095,852  \n",
              "3717          25,941,437          4,806,750  \n",
              "987           64,594,061         44,480,039  "
            ],
            "text/html": [
              "\n",
              "  <div id=\"df-65931bc6-0e11-4417-8cc1-184e4474707e\">\n",
              "    <div class=\"colab-df-container\">\n",
              "      <div>\n",
              "<style scoped>\n",
              "    .dataframe tbody tr th:only-of-type {\n",
              "        vertical-align: middle;\n",
              "    }\n",
              "\n",
              "    .dataframe tbody tr th {\n",
              "        vertical-align: top;\n",
              "    }\n",
              "\n",
              "    .dataframe thead th {\n",
              "        text-align: right;\n",
              "    }\n",
              "</style>\n",
              "<table border=\"1\" class=\"dataframe\">\n",
              "  <thead>\n",
              "    <tr style=\"text-align: right;\">\n",
              "      <th></th>\n",
              "      <th>Rank</th>\n",
              "      <th>Release_Date</th>\n",
              "      <th>Movie_Title</th>\n",
              "      <th>USD_Production_Budget</th>\n",
              "      <th>USD_Worldwide_Gross</th>\n",
              "      <th>USD_Domestic_Gross</th>\n",
              "    </tr>\n",
              "  </thead>\n",
              "  <tbody>\n",
              "    <tr>\n",
              "      <th>4692</th>\n",
              "      <td>1055</td>\n",
              "      <td>10/10/2014</td>\n",
              "      <td>The Judge</td>\n",
              "      <td>50,000,000</td>\n",
              "      <td>76,119,388</td>\n",
              "      <td>47,119,388</td>\n",
              "    </tr>\n",
              "    <tr>\n",
              "      <th>2070</th>\n",
              "      <td>645</td>\n",
              "      <td>8/8/2003</td>\n",
              "      <td>S.W.A.T.</td>\n",
              "      <td>70,000,000</td>\n",
              "      <td>207,154,748</td>\n",
              "      <td>116,877,597</td>\n",
              "    </tr>\n",
              "    <tr>\n",
              "      <th>3578</th>\n",
              "      <td>2333</td>\n",
              "      <td>2/4/2010</td>\n",
              "      <td>Why Did I Get Married Too?</td>\n",
              "      <td>20,000,000</td>\n",
              "      <td>60,831,067</td>\n",
              "      <td>60,095,852</td>\n",
              "    </tr>\n",
              "    <tr>\n",
              "      <th>3717</th>\n",
              "      <td>2630</td>\n",
              "      <td>8/20/2010</td>\n",
              "      <td>Mao's Last Dancer</td>\n",
              "      <td>18,000,000</td>\n",
              "      <td>25,941,437</td>\n",
              "      <td>4,806,750</td>\n",
              "    </tr>\n",
              "    <tr>\n",
              "      <th>987</th>\n",
              "      <td>2049</td>\n",
              "      <td>7/18/1997</td>\n",
              "      <td>Nothing To Lose</td>\n",
              "      <td>25,000,000</td>\n",
              "      <td>64,594,061</td>\n",
              "      <td>44,480,039</td>\n",
              "    </tr>\n",
              "  </tbody>\n",
              "</table>\n",
              "</div>\n",
              "      <button class=\"colab-df-convert\" onclick=\"convertToInteractive('df-65931bc6-0e11-4417-8cc1-184e4474707e')\"\n",
              "              title=\"Convert this dataframe to an interactive table.\"\n",
              "              style=\"display:none;\">\n",
              "        \n",
              "  <svg xmlns=\"http://www.w3.org/2000/svg\" height=\"24px\"viewBox=\"0 0 24 24\"\n",
              "       width=\"24px\">\n",
              "    <path d=\"M0 0h24v24H0V0z\" fill=\"none\"/>\n",
              "    <path d=\"M18.56 5.44l.94 2.06.94-2.06 2.06-.94-2.06-.94-.94-2.06-.94 2.06-2.06.94zm-11 1L8.5 8.5l.94-2.06 2.06-.94-2.06-.94L8.5 2.5l-.94 2.06-2.06.94zm10 10l.94 2.06.94-2.06 2.06-.94-2.06-.94-.94-2.06-.94 2.06-2.06.94z\"/><path d=\"M17.41 7.96l-1.37-1.37c-.4-.4-.92-.59-1.43-.59-.52 0-1.04.2-1.43.59L10.3 9.45l-7.72 7.72c-.78.78-.78 2.05 0 2.83L4 21.41c.39.39.9.59 1.41.59.51 0 1.02-.2 1.41-.59l7.78-7.78 2.81-2.81c.8-.78.8-2.07 0-2.86zM5.41 20L4 18.59l7.72-7.72 1.47 1.35L5.41 20z\"/>\n",
              "  </svg>\n",
              "      </button>\n",
              "      \n",
              "  <style>\n",
              "    .colab-df-container {\n",
              "      display:flex;\n",
              "      flex-wrap:wrap;\n",
              "      gap: 12px;\n",
              "    }\n",
              "\n",
              "    .colab-df-convert {\n",
              "      background-color: #E8F0FE;\n",
              "      border: none;\n",
              "      border-radius: 50%;\n",
              "      cursor: pointer;\n",
              "      display: none;\n",
              "      fill: #1967D2;\n",
              "      height: 32px;\n",
              "      padding: 0 0 0 0;\n",
              "      width: 32px;\n",
              "    }\n",
              "\n",
              "    .colab-df-convert:hover {\n",
              "      background-color: #E2EBFA;\n",
              "      box-shadow: 0px 1px 2px rgba(60, 64, 67, 0.3), 0px 1px 3px 1px rgba(60, 64, 67, 0.15);\n",
              "      fill: #174EA6;\n",
              "    }\n",
              "\n",
              "    [theme=dark] .colab-df-convert {\n",
              "      background-color: #3B4455;\n",
              "      fill: #D2E3FC;\n",
              "    }\n",
              "\n",
              "    [theme=dark] .colab-df-convert:hover {\n",
              "      background-color: #434B5C;\n",
              "      box-shadow: 0px 1px 3px 1px rgba(0, 0, 0, 0.15);\n",
              "      filter: drop-shadow(0px 1px 2px rgba(0, 0, 0, 0.3));\n",
              "      fill: #FFFFFF;\n",
              "    }\n",
              "  </style>\n",
              "\n",
              "      <script>\n",
              "        const buttonEl =\n",
              "          document.querySelector('#df-65931bc6-0e11-4417-8cc1-184e4474707e button.colab-df-convert');\n",
              "        buttonEl.style.display =\n",
              "          google.colab.kernel.accessAllowed ? 'block' : 'none';\n",
              "\n",
              "        async function convertToInteractive(key) {\n",
              "          const element = document.querySelector('#df-65931bc6-0e11-4417-8cc1-184e4474707e');\n",
              "          const dataTable =\n",
              "            await google.colab.kernel.invokeFunction('convertToInteractive',\n",
              "                                                     [key], {});\n",
              "          if (!dataTable) return;\n",
              "\n",
              "          const docLinkHtml = 'Like what you see? Visit the ' +\n",
              "            '<a target=\"_blank\" href=https://colab.research.google.com/notebooks/data_table.ipynb>data table notebook</a>'\n",
              "            + ' to learn more about interactive tables.';\n",
              "          element.innerHTML = '';\n",
              "          dataTable['output_type'] = 'display_data';\n",
              "          await google.colab.output.renderOutput(dataTable, element);\n",
              "          const docLink = document.createElement('div');\n",
              "          docLink.innerHTML = docLinkHtml;\n",
              "          element.appendChild(docLink);\n",
              "        }\n",
              "      </script>\n",
              "    </div>\n",
              "  </div>\n",
              "  "
            ]
          },
          "metadata": {},
          "execution_count": 27
        }
      ]
    },
    {
      "cell_type": "markdown",
      "metadata": {
        "id": "cA01iJHkvWhl"
      },
      "source": [
        "**Challenge**: Convert the `Release_Date` column to a Pandas Datetime type. "
      ]
    },
    {
      "cell_type": "code",
      "metadata": {
        "id": "Pq1WfvRnTRU6"
      },
      "source": [
        ""
      ],
      "execution_count": null,
      "outputs": []
    },
    {
      "cell_type": "markdown",
      "metadata": {
        "id": "NkwmJO3tvt5i"
      },
      "source": [
        "### Descriptive Statistics"
      ]
    },
    {
      "cell_type": "markdown",
      "metadata": {
        "id": "bnb54thrvx5r"
      },
      "source": [
        "**Challenge**: \n",
        "\n",
        "1. What is the average production budget of the films in the data set?\n",
        "2. What is the average worldwide gross revenue of films?\n",
        "3. What were the minimums for worldwide and domestic revenue?\n",
        "4. Are the bottom 25% of films actually profitable or do they lose money?\n",
        "5. What are the highest production budget and highest worldwide gross revenue of any film?\n",
        "6. How much revenue did the lowest and highest budget films make?"
      ]
    },
    {
      "cell_type": "code",
      "metadata": {
        "id": "8G5_FATFTTtb"
      },
      "source": [
        ""
      ],
      "execution_count": null,
      "outputs": []
    },
    {
      "cell_type": "markdown",
      "metadata": {
        "id": "Cj-ug32JyEhp"
      },
      "source": [
        "# Investigating the Zero Revenue Films"
      ]
    },
    {
      "cell_type": "markdown",
      "metadata": {
        "id": "U9hm-pb4xTjY"
      },
      "source": [
        "**Challenge** How many films grossed $0 domestically (i.e., in the United States)? What were the highest budget films that grossed nothing?"
      ]
    },
    {
      "cell_type": "code",
      "metadata": {
        "id": "MXuRYdy0TWkt"
      },
      "source": [
        ""
      ],
      "execution_count": null,
      "outputs": []
    },
    {
      "cell_type": "markdown",
      "metadata": {
        "id": "mY8SAwI0x73b"
      },
      "source": [
        "**Challenge**: How many films grossed $0 worldwide? What are the highest budget films that had no revenue internationally?"
      ]
    },
    {
      "cell_type": "code",
      "metadata": {
        "id": "VpfocexxTXym"
      },
      "source": [
        ""
      ],
      "execution_count": null,
      "outputs": []
    },
    {
      "cell_type": "markdown",
      "metadata": {
        "id": "eXUDzWpeyV2f"
      },
      "source": [
        "### Filtering on Multiple Conditions"
      ]
    },
    {
      "cell_type": "code",
      "metadata": {
        "id": "dLd3eeD9TZZ9"
      },
      "source": [
        ""
      ],
      "execution_count": null,
      "outputs": []
    },
    {
      "cell_type": "markdown",
      "metadata": {
        "id": "YruPjqLVPuiB"
      },
      "source": [
        "**Challenge**: Use the [`.query()` function](https://pandas.pydata.org/pandas-docs/stable/reference/api/pandas.DataFrame.query.html) to accomplish the same thing. Create a subset for international releases that had some worldwide gross revenue, but made zero revenue in the United States. \n",
        "\n",
        "Hint: This time you'll have to use the `and` keyword."
      ]
    },
    {
      "cell_type": "code",
      "metadata": {
        "id": "Xvu-jTCwTavg"
      },
      "source": [
        ""
      ],
      "execution_count": null,
      "outputs": []
    },
    {
      "cell_type": "markdown",
      "metadata": {
        "id": "EM-FTE4OZhfr"
      },
      "source": [
        "### Unreleased Films\n",
        "\n",
        "**Challenge**:\n",
        "* Identify which films were not released yet as of the time of data collection (May 1st, 2018).\n",
        "* How many films are included in the dataset that have not yet had a chance to be screened in the box office? \n",
        "* Create another DataFrame called data_clean that does not include these films. "
      ]
    },
    {
      "cell_type": "code",
      "metadata": {
        "id": "PIukYVY9Zpxu"
      },
      "source": [
        "# Date of Data Collection\n",
        "scrape_date = pd.Timestamp('2018-5-1')"
      ],
      "execution_count": null,
      "outputs": []
    },
    {
      "cell_type": "code",
      "metadata": {
        "id": "OAI0VsM3Tc6v"
      },
      "source": [
        ""
      ],
      "execution_count": null,
      "outputs": []
    },
    {
      "cell_type": "markdown",
      "metadata": {
        "id": "khrJcXlGZWZO"
      },
      "source": [
        "### Films that Lost Money\n",
        "\n",
        "**Challenge**: \n",
        "What is the percentage of films where the production costs exceeded the worldwide gross revenue? "
      ]
    },
    {
      "cell_type": "code",
      "metadata": {
        "id": "7uW_U9StTgvZ"
      },
      "source": [
        ""
      ],
      "execution_count": null,
      "outputs": []
    },
    {
      "cell_type": "markdown",
      "metadata": {
        "id": "cfJUL3WwyiDy"
      },
      "source": [
        "# Seaborn for Data Viz: Bubble Charts"
      ]
    },
    {
      "cell_type": "code",
      "metadata": {
        "id": "YXa3bp1uTiSS"
      },
      "source": [
        ""
      ],
      "execution_count": null,
      "outputs": []
    },
    {
      "cell_type": "markdown",
      "metadata": {
        "id": "e7NIOiL2y3en"
      },
      "source": [
        "### Plotting Movie Releases over Time\n",
        "\n",
        "**Challenge**: Try to create the following Bubble Chart:\n",
        "\n",
        "<img src=https://i.imgur.com/8fUn9T6.png>\n",
        "\n"
      ]
    },
    {
      "cell_type": "code",
      "metadata": {
        "id": "OT0D-i3HTmsB"
      },
      "source": [
        ""
      ],
      "execution_count": null,
      "outputs": []
    },
    {
      "cell_type": "markdown",
      "metadata": {
        "id": "r_2hFz9py84b"
      },
      "source": [
        "# Converting Years to Decades Trick\n",
        "\n",
        "**Challenge**: Create a column in `data_clean` that has the decade of the release. \n",
        "\n",
        "<img src=https://i.imgur.com/0VEfagw.png width=650> \n",
        "\n",
        "Here's how: \n",
        "1. Create a [`DatetimeIndex` object](https://pandas.pydata.org/pandas-docs/stable/reference/api/pandas.DatetimeIndex.html) from the Release_Date column. \n",
        "2. Grab all the years from the `DatetimeIndex` object using the `.year` property.\n",
        "<img src=https://i.imgur.com/5m06Ach.png width=650>\n",
        "3. Use floor division `//` to convert the year data to the decades of the films.\n",
        "4. Add the decades as a `Decade` column to the `data_clean` DataFrame."
      ]
    },
    {
      "cell_type": "code",
      "metadata": {
        "id": "lak08IPMTn-j"
      },
      "source": [
        ""
      ],
      "execution_count": null,
      "outputs": []
    },
    {
      "cell_type": "markdown",
      "metadata": {
        "id": "q-X7NK_9zIz9"
      },
      "source": [
        "### Separate the \"old\" (before 1969) and \"New\" (1970s onwards) Films\n",
        "\n",
        "**Challenge**: Create two new DataFrames: `old_films` and `new_films`\n",
        "* `old_films` should include all the films before 1969 (up to and including 1969)\n",
        "* `new_films` should include all the films from 1970 onwards\n",
        "* How many films were released prior to 1970?\n",
        "* What was the most expensive film made prior to 1970?"
      ]
    },
    {
      "cell_type": "code",
      "metadata": {
        "id": "qe93nMcBTqQz"
      },
      "source": [
        ""
      ],
      "execution_count": null,
      "outputs": []
    },
    {
      "cell_type": "markdown",
      "metadata": {
        "id": "msXABzF3zW7e"
      },
      "source": [
        "# Seaborn Regression Plots"
      ]
    },
    {
      "cell_type": "code",
      "metadata": {
        "id": "2ajPcWMJTsom"
      },
      "source": [
        ""
      ],
      "execution_count": null,
      "outputs": []
    },
    {
      "cell_type": "markdown",
      "metadata": {
        "id": "6k4MeLmxWFwX"
      },
      "source": [
        "**Challenge**: Use Seaborn's `.regplot()` to show the scatter plot and linear regression line against the `new_films`. \n",
        "<br>\n",
        "<br>\n",
        "Style the chart\n",
        "\n",
        "* Put the chart on a `'darkgrid'`.\n",
        "* Set limits on the axes so that they don't show negative values.\n",
        "* Label the axes on the plot \"Revenue in \\$ billions\" and \"Budget in \\$ millions\".\n",
        "* Provide HEX colour codes for the plot and the regression line. Make the dots dark blue (#2f4b7c) and the line orange (#ff7c43).\n",
        "\n",
        "Interpret the chart\n",
        "\n",
        "* Do our data points for the new films align better or worse with the linear regression than for our older films?\n",
        "* Roughly how much would a film with a budget of $150 million make according to the regression line?"
      ]
    },
    {
      "cell_type": "code",
      "metadata": {
        "id": "6cOVsxqvTui2"
      },
      "source": [
        ""
      ],
      "execution_count": null,
      "outputs": []
    },
    {
      "cell_type": "markdown",
      "metadata": {
        "id": "Q1SUPPMAzlVK"
      },
      "source": [
        "# Run Your Own Regression with scikit-learn\n",
        "\n",
        "$$ REV \\hat ENUE = \\theta _0 + \\theta _1 BUDGET$$"
      ]
    },
    {
      "cell_type": "code",
      "metadata": {
        "id": "QmX-wMMLTwBW"
      },
      "source": [
        ""
      ],
      "execution_count": null,
      "outputs": []
    },
    {
      "cell_type": "markdown",
      "metadata": {
        "id": "o23E9iT1RHQ1"
      },
      "source": [
        "**Challenge**: Run a linear regression for the `old_films`. Calculate the intercept, slope and r-squared. How much of the variance in movie revenue does the linear model explain in this case?"
      ]
    },
    {
      "cell_type": "code",
      "metadata": {
        "id": "Sd43DJNDT0yQ"
      },
      "source": [
        ""
      ],
      "execution_count": null,
      "outputs": []
    },
    {
      "cell_type": "code",
      "metadata": {
        "id": "ygKsLBx5Rs7t"
      },
      "source": [
        ""
      ],
      "execution_count": null,
      "outputs": []
    },
    {
      "cell_type": "markdown",
      "metadata": {
        "id": "hoD3PeG75p78"
      },
      "source": [
        "# Use Your Model to Make a Prediction\n",
        "\n",
        "We just estimated the slope and intercept! Remember that our Linear Model has the following form:\n",
        "\n",
        "$$ REV \\hat ENUE = \\theta _0 + \\theta _1 BUDGET$$\n",
        "\n",
        "**Challenge**:  How much global revenue does our model estimate for a film with a budget of $350 million? "
      ]
    },
    {
      "cell_type": "code",
      "metadata": {
        "id": "fX4I4h5i5rgF"
      },
      "source": [
        ""
      ],
      "execution_count": null,
      "outputs": []
    },
    {
      "cell_type": "code",
      "metadata": {
        "id": "fB2Yp8ln5qfO"
      },
      "source": [
        ""
      ],
      "execution_count": null,
      "outputs": []
    }
  ]
}