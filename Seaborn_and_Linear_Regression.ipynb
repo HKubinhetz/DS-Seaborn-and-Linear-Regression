{
  "nbformat": 4,
  "nbformat_minor": 0,
  "metadata": {
    "colab": {
      "name": "Seaborn and Linear Regression.ipynb",
      "provenance": [],
      "include_colab_link": true
    },
    "kernelspec": {
      "name": "python3",
      "display_name": "Python 3"
    }
  },
  "cells": [
    {
      "cell_type": "markdown",
      "metadata": {
        "id": "view-in-github",
        "colab_type": "text"
      },
      "source": [
        "<a href=\"https://colab.research.google.com/github/HKubinhetz/DS-Seaborn-and-Linear-Regression/blob/main/Seaborn_and_Linear_Regression.ipynb\" target=\"_parent\"><img src=\"https://colab.research.google.com/assets/colab-badge.svg\" alt=\"Open In Colab\"/></a>"
      ]
    },
    {
      "cell_type": "markdown",
      "metadata": {
        "id": "gltiGJhvrzaL"
      },
      "source": [
        "# Introduction\n",
        "\n",
        "Do higher film budgets lead to more box office revenue? Let's find out if there's a relationship using the movie budgets and financial performance data that I've scraped from [the-numbers.com](https://www.the-numbers.com/movie/budgets) on **May 1st, 2018**. \n",
        "\n",
        "<img src=https://i.imgur.com/kq7hrEh.png>"
      ]
    },
    {
      "cell_type": "markdown",
      "metadata": {
        "id": "zkLrvlKvtdih"
      },
      "source": [
        "# Import Statements"
      ]
    },
    {
      "cell_type": "code",
      "metadata": {
        "id": "NpDk_q_Urroj"
      },
      "source": [
        "import pandas as pd\n",
        "import matplotlib.pyplot as plt\n"
      ],
      "execution_count": null,
      "outputs": []
    },
    {
      "cell_type": "markdown",
      "metadata": {
        "id": "x5B-UDvXtnC6"
      },
      "source": [
        "# Notebook Presentation"
      ]
    },
    {
      "cell_type": "code",
      "metadata": {
        "id": "nM_otvWztjpT"
      },
      "source": [
        "pd.options.display.float_format = '{:,.2f}'.format\n",
        "\n",
        "from pandas.plotting import register_matplotlib_converters\n",
        "register_matplotlib_converters()"
      ],
      "execution_count": null,
      "outputs": []
    },
    {
      "cell_type": "markdown",
      "metadata": {
        "id": "v-fnwNYJtthe"
      },
      "source": [
        "# Read the Data"
      ]
    },
    {
      "cell_type": "code",
      "metadata": {
        "id": "xhwvQQWitrf4",
        "colab": {
          "base_uri": "https://localhost:8080/"
        },
        "outputId": "713c1493-7b0b-483c-baae-33e5191cfd77"
      },
      "source": [
        "from google.colab import drive\n",
        "drive.mount('/content/drive')\n",
        "data = pd.read_csv('/content/drive/MyDrive/PythonDS/07 - Seaborn and Linear Regression/cost_revenue_dirty.csv')"
      ],
      "execution_count": null,
      "outputs": [
        {
          "output_type": "stream",
          "name": "stdout",
          "text": [
            "Mounted at /content/drive\n"
          ]
        }
      ]
    },
    {
      "cell_type": "markdown",
      "metadata": {
        "id": "tbg8_J5SuHhs"
      },
      "source": [
        "# Explore and Clean the Data"
      ]
    },
    {
      "cell_type": "markdown",
      "metadata": {
        "id": "xAtdcURCuL0Z"
      },
      "source": [
        "**Challenge**: Answer these questions about the dataset:\n",
        "1. How many rows and columns does the dataset contain?\n",
        "2. Are there any NaN values present?\n",
        "3. Are there any duplicate rows?\n",
        "4. What are the data types of the columns?"
      ]
    },
    {
      "cell_type": "code",
      "metadata": {
        "id": "PV3KLBSVTMDN",
        "colab": {
          "base_uri": "https://localhost:8080/"
        },
        "outputId": "a3801788-c7b2-4e64-df10-8b8600bb3446"
      },
      "source": [
        "# How many rows and columns does the dataset contain?\n",
        "data.shape"
      ],
      "execution_count": null,
      "outputs": [
        {
          "output_type": "execute_result",
          "data": {
            "text/plain": [
              "(5391, 6)"
            ]
          },
          "metadata": {},
          "execution_count": 4
        }
      ]
    },
    {
      "cell_type": "code",
      "source": [
        "# Are there any NaN values present?\n",
        "data.isna().any()"
      ],
      "metadata": {
        "id": "MycP8pfuFewc",
        "colab": {
          "base_uri": "https://localhost:8080/"
        },
        "outputId": "827bf53c-26ec-4f30-adac-1f5dc8f0dc1e"
      },
      "execution_count": null,
      "outputs": [
        {
          "output_type": "execute_result",
          "data": {
            "text/plain": [
              "Rank                     False\n",
              "Release_Date             False\n",
              "Movie_Title              False\n",
              "USD_Production_Budget    False\n",
              "USD_Worldwide_Gross      False\n",
              "USD_Domestic_Gross       False\n",
              "dtype: bool"
            ]
          },
          "metadata": {},
          "execution_count": 5
        }
      ]
    },
    {
      "cell_type": "code",
      "source": [
        "# Are there any duplicate rows?\n",
        "data.duplicated().any()"
      ],
      "metadata": {
        "id": "JPGZkeBLFrZY",
        "colab": {
          "base_uri": "https://localhost:8080/"
        },
        "outputId": "5865cf1d-2452-4178-8196-c02ca0f287d5"
      },
      "execution_count": null,
      "outputs": [
        {
          "output_type": "execute_result",
          "data": {
            "text/plain": [
              "False"
            ]
          },
          "metadata": {},
          "execution_count": 6
        }
      ]
    },
    {
      "cell_type": "code",
      "source": [
        "# What are the data types of the columns?\n",
        "data.info()"
      ],
      "metadata": {
        "id": "ZB5IZ6htFzSj",
        "colab": {
          "base_uri": "https://localhost:8080/"
        },
        "outputId": "97e29d98-9510-4cdc-e2b6-14b56beae165"
      },
      "execution_count": null,
      "outputs": [
        {
          "output_type": "stream",
          "name": "stdout",
          "text": [
            "<class 'pandas.core.frame.DataFrame'>\n",
            "RangeIndex: 5391 entries, 0 to 5390\n",
            "Data columns (total 6 columns):\n",
            " #   Column                 Non-Null Count  Dtype \n",
            "---  ------                 --------------  ----- \n",
            " 0   Rank                   5391 non-null   int64 \n",
            " 1   Release_Date           5391 non-null   object\n",
            " 2   Movie_Title            5391 non-null   object\n",
            " 3   USD_Production_Budget  5391 non-null   object\n",
            " 4   USD_Worldwide_Gross    5391 non-null   object\n",
            " 5   USD_Domestic_Gross     5391 non-null   object\n",
            "dtypes: int64(1), object(5)\n",
            "memory usage: 252.8+ KB\n"
          ]
        }
      ]
    },
    {
      "cell_type": "markdown",
      "metadata": {
        "id": "v8spadDNvpVG"
      },
      "source": [
        "### Data Type Conversions"
      ]
    },
    {
      "cell_type": "markdown",
      "metadata": {
        "id": "9F8KFST4ulrd"
      },
      "source": [
        "**Challenge**: Convert the `USD_Production_Budget`, `USD_Worldwide_Gross`, and `USD_Domestic_Gross` columns to a numeric format by removing `$` signs and `,`. \n",
        "<br>\n",
        "<br>\n",
        "Note that *domestic* in this context refers to the United States."
      ]
    },
    {
      "cell_type": "code",
      "metadata": {
        "id": "BmdCbLf-TPXk",
        "colab": {
          "base_uri": "https://localhost:8080/",
          "height": 206
        },
        "outputId": "c6f608b7-0909-446d-b109-e9cfcafbb58e"
      },
      "source": [
        "data.sample(5)"
      ],
      "execution_count": null,
      "outputs": [
        {
          "output_type": "execute_result",
          "data": {
            "text/plain": [
              "      Rank Release_Date              Movie_Title USD_Production_Budget  \\\n",
              "2678  5385    5/26/2006                   Cavite                $7,000   \n",
              "493   2100     1/4/1988  Bright Lights, Big City           $25,000,000   \n",
              "47    4255    5/17/1950       Annie Get Your Gun            $3,768,785   \n",
              "4159    34    5/18/2012               Battleship          $209,000,000   \n",
              "3934   286    7/29/2011               The Smurfs          $110,000,000   \n",
              "\n",
              "     USD_Worldwide_Gross USD_Domestic_Gross  \n",
              "2678             $71,644            $70,071  \n",
              "493          $16,118,077        $16,118,077  \n",
              "47            $8,000,000         $8,000,000  \n",
              "4159        $305,218,228        $65,233,400  \n",
              "3934        $563,749,323       $142,614,158  "
            ],
            "text/html": [
              "\n",
              "  <div id=\"df-0f23c65f-5dce-4f24-91d8-90df43f58d4a\">\n",
              "    <div class=\"colab-df-container\">\n",
              "      <div>\n",
              "<style scoped>\n",
              "    .dataframe tbody tr th:only-of-type {\n",
              "        vertical-align: middle;\n",
              "    }\n",
              "\n",
              "    .dataframe tbody tr th {\n",
              "        vertical-align: top;\n",
              "    }\n",
              "\n",
              "    .dataframe thead th {\n",
              "        text-align: right;\n",
              "    }\n",
              "</style>\n",
              "<table border=\"1\" class=\"dataframe\">\n",
              "  <thead>\n",
              "    <tr style=\"text-align: right;\">\n",
              "      <th></th>\n",
              "      <th>Rank</th>\n",
              "      <th>Release_Date</th>\n",
              "      <th>Movie_Title</th>\n",
              "      <th>USD_Production_Budget</th>\n",
              "      <th>USD_Worldwide_Gross</th>\n",
              "      <th>USD_Domestic_Gross</th>\n",
              "    </tr>\n",
              "  </thead>\n",
              "  <tbody>\n",
              "    <tr>\n",
              "      <th>2678</th>\n",
              "      <td>5385</td>\n",
              "      <td>5/26/2006</td>\n",
              "      <td>Cavite</td>\n",
              "      <td>$7,000</td>\n",
              "      <td>$71,644</td>\n",
              "      <td>$70,071</td>\n",
              "    </tr>\n",
              "    <tr>\n",
              "      <th>493</th>\n",
              "      <td>2100</td>\n",
              "      <td>1/4/1988</td>\n",
              "      <td>Bright Lights, Big City</td>\n",
              "      <td>$25,000,000</td>\n",
              "      <td>$16,118,077</td>\n",
              "      <td>$16,118,077</td>\n",
              "    </tr>\n",
              "    <tr>\n",
              "      <th>47</th>\n",
              "      <td>4255</td>\n",
              "      <td>5/17/1950</td>\n",
              "      <td>Annie Get Your Gun</td>\n",
              "      <td>$3,768,785</td>\n",
              "      <td>$8,000,000</td>\n",
              "      <td>$8,000,000</td>\n",
              "    </tr>\n",
              "    <tr>\n",
              "      <th>4159</th>\n",
              "      <td>34</td>\n",
              "      <td>5/18/2012</td>\n",
              "      <td>Battleship</td>\n",
              "      <td>$209,000,000</td>\n",
              "      <td>$305,218,228</td>\n",
              "      <td>$65,233,400</td>\n",
              "    </tr>\n",
              "    <tr>\n",
              "      <th>3934</th>\n",
              "      <td>286</td>\n",
              "      <td>7/29/2011</td>\n",
              "      <td>The Smurfs</td>\n",
              "      <td>$110,000,000</td>\n",
              "      <td>$563,749,323</td>\n",
              "      <td>$142,614,158</td>\n",
              "    </tr>\n",
              "  </tbody>\n",
              "</table>\n",
              "</div>\n",
              "      <button class=\"colab-df-convert\" onclick=\"convertToInteractive('df-0f23c65f-5dce-4f24-91d8-90df43f58d4a')\"\n",
              "              title=\"Convert this dataframe to an interactive table.\"\n",
              "              style=\"display:none;\">\n",
              "        \n",
              "  <svg xmlns=\"http://www.w3.org/2000/svg\" height=\"24px\"viewBox=\"0 0 24 24\"\n",
              "       width=\"24px\">\n",
              "    <path d=\"M0 0h24v24H0V0z\" fill=\"none\"/>\n",
              "    <path d=\"M18.56 5.44l.94 2.06.94-2.06 2.06-.94-2.06-.94-.94-2.06-.94 2.06-2.06.94zm-11 1L8.5 8.5l.94-2.06 2.06-.94-2.06-.94L8.5 2.5l-.94 2.06-2.06.94zm10 10l.94 2.06.94-2.06 2.06-.94-2.06-.94-.94-2.06-.94 2.06-2.06.94z\"/><path d=\"M17.41 7.96l-1.37-1.37c-.4-.4-.92-.59-1.43-.59-.52 0-1.04.2-1.43.59L10.3 9.45l-7.72 7.72c-.78.78-.78 2.05 0 2.83L4 21.41c.39.39.9.59 1.41.59.51 0 1.02-.2 1.41-.59l7.78-7.78 2.81-2.81c.8-.78.8-2.07 0-2.86zM5.41 20L4 18.59l7.72-7.72 1.47 1.35L5.41 20z\"/>\n",
              "  </svg>\n",
              "      </button>\n",
              "      \n",
              "  <style>\n",
              "    .colab-df-container {\n",
              "      display:flex;\n",
              "      flex-wrap:wrap;\n",
              "      gap: 12px;\n",
              "    }\n",
              "\n",
              "    .colab-df-convert {\n",
              "      background-color: #E8F0FE;\n",
              "      border: none;\n",
              "      border-radius: 50%;\n",
              "      cursor: pointer;\n",
              "      display: none;\n",
              "      fill: #1967D2;\n",
              "      height: 32px;\n",
              "      padding: 0 0 0 0;\n",
              "      width: 32px;\n",
              "    }\n",
              "\n",
              "    .colab-df-convert:hover {\n",
              "      background-color: #E2EBFA;\n",
              "      box-shadow: 0px 1px 2px rgba(60, 64, 67, 0.3), 0px 1px 3px 1px rgba(60, 64, 67, 0.15);\n",
              "      fill: #174EA6;\n",
              "    }\n",
              "\n",
              "    [theme=dark] .colab-df-convert {\n",
              "      background-color: #3B4455;\n",
              "      fill: #D2E3FC;\n",
              "    }\n",
              "\n",
              "    [theme=dark] .colab-df-convert:hover {\n",
              "      background-color: #434B5C;\n",
              "      box-shadow: 0px 1px 3px 1px rgba(0, 0, 0, 0.15);\n",
              "      filter: drop-shadow(0px 1px 2px rgba(0, 0, 0, 0.3));\n",
              "      fill: #FFFFFF;\n",
              "    }\n",
              "  </style>\n",
              "\n",
              "      <script>\n",
              "        const buttonEl =\n",
              "          document.querySelector('#df-0f23c65f-5dce-4f24-91d8-90df43f58d4a button.colab-df-convert');\n",
              "        buttonEl.style.display =\n",
              "          google.colab.kernel.accessAllowed ? 'block' : 'none';\n",
              "\n",
              "        async function convertToInteractive(key) {\n",
              "          const element = document.querySelector('#df-0f23c65f-5dce-4f24-91d8-90df43f58d4a');\n",
              "          const dataTable =\n",
              "            await google.colab.kernel.invokeFunction('convertToInteractive',\n",
              "                                                     [key], {});\n",
              "          if (!dataTable) return;\n",
              "\n",
              "          const docLinkHtml = 'Like what you see? Visit the ' +\n",
              "            '<a target=\"_blank\" href=https://colab.research.google.com/notebooks/data_table.ipynb>data table notebook</a>'\n",
              "            + ' to learn more about interactive tables.';\n",
              "          element.innerHTML = '';\n",
              "          dataTable['output_type'] = 'display_data';\n",
              "          await google.colab.output.renderOutput(dataTable, element);\n",
              "          const docLink = document.createElement('div');\n",
              "          docLink.innerHTML = docLinkHtml;\n",
              "          element.appendChild(docLink);\n",
              "        }\n",
              "      </script>\n",
              "    </div>\n",
              "  </div>\n",
              "  "
            ]
          },
          "metadata": {},
          "execution_count": 8
        }
      ]
    },
    {
      "cell_type": "code",
      "source": [
        "clean_df = data\n",
        "clean_df[\"USD_Production_Budget\"] = pd.to_numeric(clean_df[\"USD_Production_Budget\"].str.replace('$', \"\").str.replace(',', \"\"))\n",
        "clean_df[\"USD_Worldwide_Gross\"] = pd.to_numeric(clean_df[\"USD_Worldwide_Gross\"].str.replace('$', \"\").replace(',', \"\").str.replace(',', \"\"))\n",
        "clean_df[\"USD_Domestic_Gross\"] = pd.to_numeric(clean_df[\"USD_Domestic_Gross\"].str.replace('$', \"\").replace(',', \"\").str.replace(',', \"\"))\n",
        "clean_df.sample(5)"
      ],
      "metadata": {
        "id": "jdr0A34dIGzp",
        "colab": {
          "base_uri": "https://localhost:8080/",
          "height": 330
        },
        "outputId": "433b4450-b713-4941-8e3c-24a0b9f19ff4"
      },
      "execution_count": null,
      "outputs": [
        {
          "output_type": "stream",
          "name": "stderr",
          "text": [
            "/usr/local/lib/python3.7/dist-packages/ipykernel_launcher.py:2: FutureWarning: The default value of regex will change from True to False in a future version. In addition, single character regular expressions will *not* be treated as literal strings when regex=True.\n",
            "  \n",
            "/usr/local/lib/python3.7/dist-packages/ipykernel_launcher.py:3: FutureWarning: The default value of regex will change from True to False in a future version. In addition, single character regular expressions will *not* be treated as literal strings when regex=True.\n",
            "  This is separate from the ipykernel package so we can avoid doing imports until\n",
            "/usr/local/lib/python3.7/dist-packages/ipykernel_launcher.py:4: FutureWarning: The default value of regex will change from True to False in a future version. In addition, single character regular expressions will *not* be treated as literal strings when regex=True.\n",
            "  after removing the cwd from sys.path.\n"
          ]
        },
        {
          "output_type": "execute_result",
          "data": {
            "text/plain": [
              "      Rank Release_Date                Movie_Title  USD_Production_Budget  \\\n",
              "2219   390    5/11/2004            The Incredibles               92000000   \n",
              "3751  1370   10/11/2010              Morning Glory               40000000   \n",
              "192   5049   11/15/1974                      Benji                 500000   \n",
              "1975  2343    2/14/2003          The Jungle Book 2               20000000   \n",
              "3256  4494   10/31/2008  The Other End of the Line                2500000   \n",
              "\n",
              "      USD_Worldwide_Gross  USD_Domestic_Gross  \n",
              "2219            614726752           261441092  \n",
              "3751             59795070            31011732  \n",
              "192              31559560            31559560  \n",
              "1975            140122225            47901582  \n",
              "3256               507446              115504  "
            ],
            "text/html": [
              "\n",
              "  <div id=\"df-a32d3794-d7ed-43dc-adb0-c7246a62bfdf\">\n",
              "    <div class=\"colab-df-container\">\n",
              "      <div>\n",
              "<style scoped>\n",
              "    .dataframe tbody tr th:only-of-type {\n",
              "        vertical-align: middle;\n",
              "    }\n",
              "\n",
              "    .dataframe tbody tr th {\n",
              "        vertical-align: top;\n",
              "    }\n",
              "\n",
              "    .dataframe thead th {\n",
              "        text-align: right;\n",
              "    }\n",
              "</style>\n",
              "<table border=\"1\" class=\"dataframe\">\n",
              "  <thead>\n",
              "    <tr style=\"text-align: right;\">\n",
              "      <th></th>\n",
              "      <th>Rank</th>\n",
              "      <th>Release_Date</th>\n",
              "      <th>Movie_Title</th>\n",
              "      <th>USD_Production_Budget</th>\n",
              "      <th>USD_Worldwide_Gross</th>\n",
              "      <th>USD_Domestic_Gross</th>\n",
              "    </tr>\n",
              "  </thead>\n",
              "  <tbody>\n",
              "    <tr>\n",
              "      <th>2219</th>\n",
              "      <td>390</td>\n",
              "      <td>5/11/2004</td>\n",
              "      <td>The Incredibles</td>\n",
              "      <td>92000000</td>\n",
              "      <td>614726752</td>\n",
              "      <td>261441092</td>\n",
              "    </tr>\n",
              "    <tr>\n",
              "      <th>3751</th>\n",
              "      <td>1370</td>\n",
              "      <td>10/11/2010</td>\n",
              "      <td>Morning Glory</td>\n",
              "      <td>40000000</td>\n",
              "      <td>59795070</td>\n",
              "      <td>31011732</td>\n",
              "    </tr>\n",
              "    <tr>\n",
              "      <th>192</th>\n",
              "      <td>5049</td>\n",
              "      <td>11/15/1974</td>\n",
              "      <td>Benji</td>\n",
              "      <td>500000</td>\n",
              "      <td>31559560</td>\n",
              "      <td>31559560</td>\n",
              "    </tr>\n",
              "    <tr>\n",
              "      <th>1975</th>\n",
              "      <td>2343</td>\n",
              "      <td>2/14/2003</td>\n",
              "      <td>The Jungle Book 2</td>\n",
              "      <td>20000000</td>\n",
              "      <td>140122225</td>\n",
              "      <td>47901582</td>\n",
              "    </tr>\n",
              "    <tr>\n",
              "      <th>3256</th>\n",
              "      <td>4494</td>\n",
              "      <td>10/31/2008</td>\n",
              "      <td>The Other End of the Line</td>\n",
              "      <td>2500000</td>\n",
              "      <td>507446</td>\n",
              "      <td>115504</td>\n",
              "    </tr>\n",
              "  </tbody>\n",
              "</table>\n",
              "</div>\n",
              "      <button class=\"colab-df-convert\" onclick=\"convertToInteractive('df-a32d3794-d7ed-43dc-adb0-c7246a62bfdf')\"\n",
              "              title=\"Convert this dataframe to an interactive table.\"\n",
              "              style=\"display:none;\">\n",
              "        \n",
              "  <svg xmlns=\"http://www.w3.org/2000/svg\" height=\"24px\"viewBox=\"0 0 24 24\"\n",
              "       width=\"24px\">\n",
              "    <path d=\"M0 0h24v24H0V0z\" fill=\"none\"/>\n",
              "    <path d=\"M18.56 5.44l.94 2.06.94-2.06 2.06-.94-2.06-.94-.94-2.06-.94 2.06-2.06.94zm-11 1L8.5 8.5l.94-2.06 2.06-.94-2.06-.94L8.5 2.5l-.94 2.06-2.06.94zm10 10l.94 2.06.94-2.06 2.06-.94-2.06-.94-.94-2.06-.94 2.06-2.06.94z\"/><path d=\"M17.41 7.96l-1.37-1.37c-.4-.4-.92-.59-1.43-.59-.52 0-1.04.2-1.43.59L10.3 9.45l-7.72 7.72c-.78.78-.78 2.05 0 2.83L4 21.41c.39.39.9.59 1.41.59.51 0 1.02-.2 1.41-.59l7.78-7.78 2.81-2.81c.8-.78.8-2.07 0-2.86zM5.41 20L4 18.59l7.72-7.72 1.47 1.35L5.41 20z\"/>\n",
              "  </svg>\n",
              "      </button>\n",
              "      \n",
              "  <style>\n",
              "    .colab-df-container {\n",
              "      display:flex;\n",
              "      flex-wrap:wrap;\n",
              "      gap: 12px;\n",
              "    }\n",
              "\n",
              "    .colab-df-convert {\n",
              "      background-color: #E8F0FE;\n",
              "      border: none;\n",
              "      border-radius: 50%;\n",
              "      cursor: pointer;\n",
              "      display: none;\n",
              "      fill: #1967D2;\n",
              "      height: 32px;\n",
              "      padding: 0 0 0 0;\n",
              "      width: 32px;\n",
              "    }\n",
              "\n",
              "    .colab-df-convert:hover {\n",
              "      background-color: #E2EBFA;\n",
              "      box-shadow: 0px 1px 2px rgba(60, 64, 67, 0.3), 0px 1px 3px 1px rgba(60, 64, 67, 0.15);\n",
              "      fill: #174EA6;\n",
              "    }\n",
              "\n",
              "    [theme=dark] .colab-df-convert {\n",
              "      background-color: #3B4455;\n",
              "      fill: #D2E3FC;\n",
              "    }\n",
              "\n",
              "    [theme=dark] .colab-df-convert:hover {\n",
              "      background-color: #434B5C;\n",
              "      box-shadow: 0px 1px 3px 1px rgba(0, 0, 0, 0.15);\n",
              "      filter: drop-shadow(0px 1px 2px rgba(0, 0, 0, 0.3));\n",
              "      fill: #FFFFFF;\n",
              "    }\n",
              "  </style>\n",
              "\n",
              "      <script>\n",
              "        const buttonEl =\n",
              "          document.querySelector('#df-a32d3794-d7ed-43dc-adb0-c7246a62bfdf button.colab-df-convert');\n",
              "        buttonEl.style.display =\n",
              "          google.colab.kernel.accessAllowed ? 'block' : 'none';\n",
              "\n",
              "        async function convertToInteractive(key) {\n",
              "          const element = document.querySelector('#df-a32d3794-d7ed-43dc-adb0-c7246a62bfdf');\n",
              "          const dataTable =\n",
              "            await google.colab.kernel.invokeFunction('convertToInteractive',\n",
              "                                                     [key], {});\n",
              "          if (!dataTable) return;\n",
              "\n",
              "          const docLinkHtml = 'Like what you see? Visit the ' +\n",
              "            '<a target=\"_blank\" href=https://colab.research.google.com/notebooks/data_table.ipynb>data table notebook</a>'\n",
              "            + ' to learn more about interactive tables.';\n",
              "          element.innerHTML = '';\n",
              "          dataTable['output_type'] = 'display_data';\n",
              "          await google.colab.output.renderOutput(dataTable, element);\n",
              "          const docLink = document.createElement('div');\n",
              "          docLink.innerHTML = docLinkHtml;\n",
              "          element.appendChild(docLink);\n",
              "        }\n",
              "      </script>\n",
              "    </div>\n",
              "  </div>\n",
              "  "
            ]
          },
          "metadata": {},
          "execution_count": 9
        }
      ]
    },
    {
      "cell_type": "code",
      "source": [
        "clean_df.info()"
      ],
      "metadata": {
        "id": "s7Kjt_UQ3zHz",
        "colab": {
          "base_uri": "https://localhost:8080/"
        },
        "outputId": "e35f6f4b-f176-49d1-d05d-cd51ca3f7897"
      },
      "execution_count": null,
      "outputs": [
        {
          "output_type": "stream",
          "name": "stdout",
          "text": [
            "<class 'pandas.core.frame.DataFrame'>\n",
            "RangeIndex: 5391 entries, 0 to 5390\n",
            "Data columns (total 6 columns):\n",
            " #   Column                 Non-Null Count  Dtype \n",
            "---  ------                 --------------  ----- \n",
            " 0   Rank                   5391 non-null   int64 \n",
            " 1   Release_Date           5391 non-null   object\n",
            " 2   Movie_Title            5391 non-null   object\n",
            " 3   USD_Production_Budget  5391 non-null   int64 \n",
            " 4   USD_Worldwide_Gross    5391 non-null   int64 \n",
            " 5   USD_Domestic_Gross     5391 non-null   int64 \n",
            "dtypes: int64(4), object(2)\n",
            "memory usage: 252.8+ KB\n"
          ]
        }
      ]
    },
    {
      "cell_type": "markdown",
      "metadata": {
        "id": "cA01iJHkvWhl"
      },
      "source": [
        "**Challenge**: Convert the `Release_Date` column to a Pandas Datetime type. "
      ]
    },
    {
      "cell_type": "markdown",
      "metadata": {
        "id": "NkwmJO3tvt5i"
      },
      "source": [
        "### Descriptive Statistics"
      ]
    },
    {
      "cell_type": "code",
      "metadata": {
        "id": "Pq1WfvRnTRU6",
        "colab": {
          "base_uri": "https://localhost:8080/"
        },
        "outputId": "7ad7b5ff-910a-425d-8604-6b3e65b8cd1e"
      },
      "source": [
        "clean_df[\"Release_Date\"] = pd.to_datetime(clean_df[\"Release_Date\"])\n",
        "clean_df.sample(5)"
      ],
      "execution_count": null,
      "outputs": [
        {
          "output_type": "execute_result",
          "data": {
            "text/plain": [
              "      Rank Release_Date             Movie_Title  USD_Production_Budget  \\\n",
              "4873  3252   2015-04-11                Brooklyn               11000000   \n",
              "2652  4951   2006-04-14              Hard Candy                 950000   \n",
              "2111  3651   2003-10-24   The Singing Detective                8000000   \n",
              "594   1599   1991-01-18  Flight of the Intruder               35000000   \n",
              "4112  5089   2012-03-04           Enter Nowhere                 500000   \n",
              "\n",
              "      USD_Worldwide_Gross  USD_Domestic_Gross  \n",
              "4873             62076141            38322743  \n",
              "2652              8267066             1024640  \n",
              "2111               524747              336456  \n",
              "594              14471440            14471440  \n",
              "4112                    0                   0  "
            ],
            "text/html": [
              "\n",
              "  <div id=\"df-0418ee7c-651b-46a7-8e99-b2113d65c6b2\">\n",
              "    <div class=\"colab-df-container\">\n",
              "      <div>\n",
              "<style scoped>\n",
              "    .dataframe tbody tr th:only-of-type {\n",
              "        vertical-align: middle;\n",
              "    }\n",
              "\n",
              "    .dataframe tbody tr th {\n",
              "        vertical-align: top;\n",
              "    }\n",
              "\n",
              "    .dataframe thead th {\n",
              "        text-align: right;\n",
              "    }\n",
              "</style>\n",
              "<table border=\"1\" class=\"dataframe\">\n",
              "  <thead>\n",
              "    <tr style=\"text-align: right;\">\n",
              "      <th></th>\n",
              "      <th>Rank</th>\n",
              "      <th>Release_Date</th>\n",
              "      <th>Movie_Title</th>\n",
              "      <th>USD_Production_Budget</th>\n",
              "      <th>USD_Worldwide_Gross</th>\n",
              "      <th>USD_Domestic_Gross</th>\n",
              "    </tr>\n",
              "  </thead>\n",
              "  <tbody>\n",
              "    <tr>\n",
              "      <th>4873</th>\n",
              "      <td>3252</td>\n",
              "      <td>2015-04-11</td>\n",
              "      <td>Brooklyn</td>\n",
              "      <td>11000000</td>\n",
              "      <td>62076141</td>\n",
              "      <td>38322743</td>\n",
              "    </tr>\n",
              "    <tr>\n",
              "      <th>2652</th>\n",
              "      <td>4951</td>\n",
              "      <td>2006-04-14</td>\n",
              "      <td>Hard Candy</td>\n",
              "      <td>950000</td>\n",
              "      <td>8267066</td>\n",
              "      <td>1024640</td>\n",
              "    </tr>\n",
              "    <tr>\n",
              "      <th>2111</th>\n",
              "      <td>3651</td>\n",
              "      <td>2003-10-24</td>\n",
              "      <td>The Singing Detective</td>\n",
              "      <td>8000000</td>\n",
              "      <td>524747</td>\n",
              "      <td>336456</td>\n",
              "    </tr>\n",
              "    <tr>\n",
              "      <th>594</th>\n",
              "      <td>1599</td>\n",
              "      <td>1991-01-18</td>\n",
              "      <td>Flight of the Intruder</td>\n",
              "      <td>35000000</td>\n",
              "      <td>14471440</td>\n",
              "      <td>14471440</td>\n",
              "    </tr>\n",
              "    <tr>\n",
              "      <th>4112</th>\n",
              "      <td>5089</td>\n",
              "      <td>2012-03-04</td>\n",
              "      <td>Enter Nowhere</td>\n",
              "      <td>500000</td>\n",
              "      <td>0</td>\n",
              "      <td>0</td>\n",
              "    </tr>\n",
              "  </tbody>\n",
              "</table>\n",
              "</div>\n",
              "      <button class=\"colab-df-convert\" onclick=\"convertToInteractive('df-0418ee7c-651b-46a7-8e99-b2113d65c6b2')\"\n",
              "              title=\"Convert this dataframe to an interactive table.\"\n",
              "              style=\"display:none;\">\n",
              "        \n",
              "  <svg xmlns=\"http://www.w3.org/2000/svg\" height=\"24px\"viewBox=\"0 0 24 24\"\n",
              "       width=\"24px\">\n",
              "    <path d=\"M0 0h24v24H0V0z\" fill=\"none\"/>\n",
              "    <path d=\"M18.56 5.44l.94 2.06.94-2.06 2.06-.94-2.06-.94-.94-2.06-.94 2.06-2.06.94zm-11 1L8.5 8.5l.94-2.06 2.06-.94-2.06-.94L8.5 2.5l-.94 2.06-2.06.94zm10 10l.94 2.06.94-2.06 2.06-.94-2.06-.94-.94-2.06-.94 2.06-2.06.94z\"/><path d=\"M17.41 7.96l-1.37-1.37c-.4-.4-.92-.59-1.43-.59-.52 0-1.04.2-1.43.59L10.3 9.45l-7.72 7.72c-.78.78-.78 2.05 0 2.83L4 21.41c.39.39.9.59 1.41.59.51 0 1.02-.2 1.41-.59l7.78-7.78 2.81-2.81c.8-.78.8-2.07 0-2.86zM5.41 20L4 18.59l7.72-7.72 1.47 1.35L5.41 20z\"/>\n",
              "  </svg>\n",
              "      </button>\n",
              "      \n",
              "  <style>\n",
              "    .colab-df-container {\n",
              "      display:flex;\n",
              "      flex-wrap:wrap;\n",
              "      gap: 12px;\n",
              "    }\n",
              "\n",
              "    .colab-df-convert {\n",
              "      background-color: #E8F0FE;\n",
              "      border: none;\n",
              "      border-radius: 50%;\n",
              "      cursor: pointer;\n",
              "      display: none;\n",
              "      fill: #1967D2;\n",
              "      height: 32px;\n",
              "      padding: 0 0 0 0;\n",
              "      width: 32px;\n",
              "    }\n",
              "\n",
              "    .colab-df-convert:hover {\n",
              "      background-color: #E2EBFA;\n",
              "      box-shadow: 0px 1px 2px rgba(60, 64, 67, 0.3), 0px 1px 3px 1px rgba(60, 64, 67, 0.15);\n",
              "      fill: #174EA6;\n",
              "    }\n",
              "\n",
              "    [theme=dark] .colab-df-convert {\n",
              "      background-color: #3B4455;\n",
              "      fill: #D2E3FC;\n",
              "    }\n",
              "\n",
              "    [theme=dark] .colab-df-convert:hover {\n",
              "      background-color: #434B5C;\n",
              "      box-shadow: 0px 1px 3px 1px rgba(0, 0, 0, 0.15);\n",
              "      filter: drop-shadow(0px 1px 2px rgba(0, 0, 0, 0.3));\n",
              "      fill: #FFFFFF;\n",
              "    }\n",
              "  </style>\n",
              "\n",
              "      <script>\n",
              "        const buttonEl =\n",
              "          document.querySelector('#df-0418ee7c-651b-46a7-8e99-b2113d65c6b2 button.colab-df-convert');\n",
              "        buttonEl.style.display =\n",
              "          google.colab.kernel.accessAllowed ? 'block' : 'none';\n",
              "\n",
              "        async function convertToInteractive(key) {\n",
              "          const element = document.querySelector('#df-0418ee7c-651b-46a7-8e99-b2113d65c6b2');\n",
              "          const dataTable =\n",
              "            await google.colab.kernel.invokeFunction('convertToInteractive',\n",
              "                                                     [key], {});\n",
              "          if (!dataTable) return;\n",
              "\n",
              "          const docLinkHtml = 'Like what you see? Visit the ' +\n",
              "            '<a target=\"_blank\" href=https://colab.research.google.com/notebooks/data_table.ipynb>data table notebook</a>'\n",
              "            + ' to learn more about interactive tables.';\n",
              "          element.innerHTML = '';\n",
              "          dataTable['output_type'] = 'display_data';\n",
              "          await google.colab.output.renderOutput(dataTable, element);\n",
              "          const docLink = document.createElement('div');\n",
              "          docLink.innerHTML = docLinkHtml;\n",
              "          element.appendChild(docLink);\n",
              "        }\n",
              "      </script>\n",
              "    </div>\n",
              "  </div>\n",
              "  "
            ]
          },
          "metadata": {},
          "execution_count": 11
        }
      ]
    },
    {
      "cell_type": "code",
      "source": [
        "clean_df.info()"
      ],
      "metadata": {
        "id": "ELaIj9zx8vav",
        "colab": {
          "base_uri": "https://localhost:8080/"
        },
        "outputId": "ed08807f-9fd1-4977-9bfc-b15066483ad0"
      },
      "execution_count": null,
      "outputs": [
        {
          "output_type": "stream",
          "name": "stdout",
          "text": [
            "<class 'pandas.core.frame.DataFrame'>\n",
            "RangeIndex: 5391 entries, 0 to 5390\n",
            "Data columns (total 6 columns):\n",
            " #   Column                 Non-Null Count  Dtype         \n",
            "---  ------                 --------------  -----         \n",
            " 0   Rank                   5391 non-null   int64         \n",
            " 1   Release_Date           5391 non-null   datetime64[ns]\n",
            " 2   Movie_Title            5391 non-null   object        \n",
            " 3   USD_Production_Budget  5391 non-null   int64         \n",
            " 4   USD_Worldwide_Gross    5391 non-null   int64         \n",
            " 5   USD_Domestic_Gross     5391 non-null   int64         \n",
            "dtypes: datetime64[ns](1), int64(4), object(1)\n",
            "memory usage: 252.8+ KB\n"
          ]
        }
      ]
    },
    {
      "cell_type": "markdown",
      "metadata": {
        "id": "bnb54thrvx5r"
      },
      "source": [
        "**Challenge**: \n",
        "\n",
        "1. What is the average production budget of the films in the data set?\n",
        "2. What is the average worldwide gross revenue of films?\n",
        "3. What were the minimums for worldwide and domestic revenue?\n",
        "4. Are the bottom 25% of films actually profitable or do they lose money?\n",
        "5. What are the highest production budget and highest worldwide gross revenue of any film?\n",
        "6. How much revenue did the lowest and highest budget films make?"
      ]
    },
    {
      "cell_type": "code",
      "source": [
        "# Most of the answers can be found through the 'describe' method. Now it is up to us to interpret this data.\n",
        "clean_df.describe()"
      ],
      "metadata": {
        "colab": {
          "base_uri": "https://localhost:8080/"
        },
        "id": "Byx27Ytjzxwy",
        "outputId": "548f0563-a971-4be6-8035-03a0ac371711"
      },
      "execution_count": null,
      "outputs": [
        {
          "output_type": "execute_result",
          "data": {
            "text/plain": [
              "          Rank  USD_Production_Budget  USD_Worldwide_Gross  USD_Domestic_Gross\n",
              "count 5,391.00               5,391.00             5,391.00            5,391.00\n",
              "mean  2,696.00          31,113,737.58        88,855,421.96       41,235,519.44\n",
              "std   1,556.39          40,523,796.88       168,457,757.00       66,029,346.27\n",
              "min       1.00               1,100.00                 0.00                0.00\n",
              "25%   1,348.50           5,000,000.00         3,865,206.00        1,330,901.50\n",
              "50%   2,696.00          17,000,000.00        27,450,453.00       17,192,205.00\n",
              "75%   4,043.50          40,000,000.00        96,454,455.00       52,343,687.00\n",
              "max   5,391.00         425,000,000.00     2,783,918,982.00      936,662,225.00"
            ],
            "text/html": [
              "\n",
              "  <div id=\"df-16b0326a-3b7b-4997-954b-af7ae7637699\">\n",
              "    <div class=\"colab-df-container\">\n",
              "      <div>\n",
              "<style scoped>\n",
              "    .dataframe tbody tr th:only-of-type {\n",
              "        vertical-align: middle;\n",
              "    }\n",
              "\n",
              "    .dataframe tbody tr th {\n",
              "        vertical-align: top;\n",
              "    }\n",
              "\n",
              "    .dataframe thead th {\n",
              "        text-align: right;\n",
              "    }\n",
              "</style>\n",
              "<table border=\"1\" class=\"dataframe\">\n",
              "  <thead>\n",
              "    <tr style=\"text-align: right;\">\n",
              "      <th></th>\n",
              "      <th>Rank</th>\n",
              "      <th>USD_Production_Budget</th>\n",
              "      <th>USD_Worldwide_Gross</th>\n",
              "      <th>USD_Domestic_Gross</th>\n",
              "    </tr>\n",
              "  </thead>\n",
              "  <tbody>\n",
              "    <tr>\n",
              "      <th>count</th>\n",
              "      <td>5,391.00</td>\n",
              "      <td>5,391.00</td>\n",
              "      <td>5,391.00</td>\n",
              "      <td>5,391.00</td>\n",
              "    </tr>\n",
              "    <tr>\n",
              "      <th>mean</th>\n",
              "      <td>2,696.00</td>\n",
              "      <td>31,113,737.58</td>\n",
              "      <td>88,855,421.96</td>\n",
              "      <td>41,235,519.44</td>\n",
              "    </tr>\n",
              "    <tr>\n",
              "      <th>std</th>\n",
              "      <td>1,556.39</td>\n",
              "      <td>40,523,796.88</td>\n",
              "      <td>168,457,757.00</td>\n",
              "      <td>66,029,346.27</td>\n",
              "    </tr>\n",
              "    <tr>\n",
              "      <th>min</th>\n",
              "      <td>1.00</td>\n",
              "      <td>1,100.00</td>\n",
              "      <td>0.00</td>\n",
              "      <td>0.00</td>\n",
              "    </tr>\n",
              "    <tr>\n",
              "      <th>25%</th>\n",
              "      <td>1,348.50</td>\n",
              "      <td>5,000,000.00</td>\n",
              "      <td>3,865,206.00</td>\n",
              "      <td>1,330,901.50</td>\n",
              "    </tr>\n",
              "    <tr>\n",
              "      <th>50%</th>\n",
              "      <td>2,696.00</td>\n",
              "      <td>17,000,000.00</td>\n",
              "      <td>27,450,453.00</td>\n",
              "      <td>17,192,205.00</td>\n",
              "    </tr>\n",
              "    <tr>\n",
              "      <th>75%</th>\n",
              "      <td>4,043.50</td>\n",
              "      <td>40,000,000.00</td>\n",
              "      <td>96,454,455.00</td>\n",
              "      <td>52,343,687.00</td>\n",
              "    </tr>\n",
              "    <tr>\n",
              "      <th>max</th>\n",
              "      <td>5,391.00</td>\n",
              "      <td>425,000,000.00</td>\n",
              "      <td>2,783,918,982.00</td>\n",
              "      <td>936,662,225.00</td>\n",
              "    </tr>\n",
              "  </tbody>\n",
              "</table>\n",
              "</div>\n",
              "      <button class=\"colab-df-convert\" onclick=\"convertToInteractive('df-16b0326a-3b7b-4997-954b-af7ae7637699')\"\n",
              "              title=\"Convert this dataframe to an interactive table.\"\n",
              "              style=\"display:none;\">\n",
              "        \n",
              "  <svg xmlns=\"http://www.w3.org/2000/svg\" height=\"24px\"viewBox=\"0 0 24 24\"\n",
              "       width=\"24px\">\n",
              "    <path d=\"M0 0h24v24H0V0z\" fill=\"none\"/>\n",
              "    <path d=\"M18.56 5.44l.94 2.06.94-2.06 2.06-.94-2.06-.94-.94-2.06-.94 2.06-2.06.94zm-11 1L8.5 8.5l.94-2.06 2.06-.94-2.06-.94L8.5 2.5l-.94 2.06-2.06.94zm10 10l.94 2.06.94-2.06 2.06-.94-2.06-.94-.94-2.06-.94 2.06-2.06.94z\"/><path d=\"M17.41 7.96l-1.37-1.37c-.4-.4-.92-.59-1.43-.59-.52 0-1.04.2-1.43.59L10.3 9.45l-7.72 7.72c-.78.78-.78 2.05 0 2.83L4 21.41c.39.39.9.59 1.41.59.51 0 1.02-.2 1.41-.59l7.78-7.78 2.81-2.81c.8-.78.8-2.07 0-2.86zM5.41 20L4 18.59l7.72-7.72 1.47 1.35L5.41 20z\"/>\n",
              "  </svg>\n",
              "      </button>\n",
              "      \n",
              "  <style>\n",
              "    .colab-df-container {\n",
              "      display:flex;\n",
              "      flex-wrap:wrap;\n",
              "      gap: 12px;\n",
              "    }\n",
              "\n",
              "    .colab-df-convert {\n",
              "      background-color: #E8F0FE;\n",
              "      border: none;\n",
              "      border-radius: 50%;\n",
              "      cursor: pointer;\n",
              "      display: none;\n",
              "      fill: #1967D2;\n",
              "      height: 32px;\n",
              "      padding: 0 0 0 0;\n",
              "      width: 32px;\n",
              "    }\n",
              "\n",
              "    .colab-df-convert:hover {\n",
              "      background-color: #E2EBFA;\n",
              "      box-shadow: 0px 1px 2px rgba(60, 64, 67, 0.3), 0px 1px 3px 1px rgba(60, 64, 67, 0.15);\n",
              "      fill: #174EA6;\n",
              "    }\n",
              "\n",
              "    [theme=dark] .colab-df-convert {\n",
              "      background-color: #3B4455;\n",
              "      fill: #D2E3FC;\n",
              "    }\n",
              "\n",
              "    [theme=dark] .colab-df-convert:hover {\n",
              "      background-color: #434B5C;\n",
              "      box-shadow: 0px 1px 3px 1px rgba(0, 0, 0, 0.15);\n",
              "      filter: drop-shadow(0px 1px 2px rgba(0, 0, 0, 0.3));\n",
              "      fill: #FFFFFF;\n",
              "    }\n",
              "  </style>\n",
              "\n",
              "      <script>\n",
              "        const buttonEl =\n",
              "          document.querySelector('#df-16b0326a-3b7b-4997-954b-af7ae7637699 button.colab-df-convert');\n",
              "        buttonEl.style.display =\n",
              "          google.colab.kernel.accessAllowed ? 'block' : 'none';\n",
              "\n",
              "        async function convertToInteractive(key) {\n",
              "          const element = document.querySelector('#df-16b0326a-3b7b-4997-954b-af7ae7637699');\n",
              "          const dataTable =\n",
              "            await google.colab.kernel.invokeFunction('convertToInteractive',\n",
              "                                                     [key], {});\n",
              "          if (!dataTable) return;\n",
              "\n",
              "          const docLinkHtml = 'Like what you see? Visit the ' +\n",
              "            '<a target=\"_blank\" href=https://colab.research.google.com/notebooks/data_table.ipynb>data table notebook</a>'\n",
              "            + ' to learn more about interactive tables.';\n",
              "          element.innerHTML = '';\n",
              "          dataTable['output_type'] = 'display_data';\n",
              "          await google.colab.output.renderOutput(dataTable, element);\n",
              "          const docLink = document.createElement('div');\n",
              "          docLink.innerHTML = docLinkHtml;\n",
              "          element.appendChild(docLink);\n",
              "        }\n",
              "      </script>\n",
              "    </div>\n",
              "  </div>\n",
              "  "
            ]
          },
          "metadata": {},
          "execution_count": 13
        }
      ]
    },
    {
      "cell_type": "code",
      "metadata": {
        "id": "8G5_FATFTTtb",
        "colab": {
          "base_uri": "https://localhost:8080/"
        },
        "outputId": "3da85961-e93f-4749-f9eb-58243823729e"
      },
      "source": [
        "# What is the average production budget of the films in the data set?\n",
        "print(f\"The average production budget of the films in this data set is {'{0:.2f}'.format(clean_df['USD_Production_Budget'].mean())} USD.\")"
      ],
      "execution_count": null,
      "outputs": [
        {
          "output_type": "stream",
          "name": "stdout",
          "text": [
            "The average production budget of the films in this data set is 31113737.58 USD.\n"
          ]
        }
      ]
    },
    {
      "cell_type": "code",
      "source": [
        "# What is the average worldwide gross revenue of films?\n",
        "print(f\"The average gross revenue in this data set is {'{0:.2f}'.format(clean_df['USD_Worldwide_Gross'].mean())} USD.\")"
      ],
      "metadata": {
        "id": "1pBiwmZbM3FK",
        "colab": {
          "base_uri": "https://localhost:8080/"
        },
        "outputId": "ef0db996-8ee1-4daf-f688-e46bd05ae1c2"
      },
      "execution_count": null,
      "outputs": [
        {
          "output_type": "stream",
          "name": "stdout",
          "text": [
            "The average gross revenue in this data set is 88855421.96 USD.\n"
          ]
        }
      ]
    },
    {
      "cell_type": "code",
      "source": [
        "# What were the minimums for worldwide and domestic revenue?\n",
        "clean_df['USD_Worldwide_Gross'].min()\n",
        "clean_df['USD_Domestic_Gross'].min()"
      ],
      "metadata": {
        "colab": {
          "base_uri": "https://localhost:8080/"
        },
        "id": "BEm1VW7RzWG0",
        "outputId": "312ee351-b34e-48ba-fb91-a0696fc6e730"
      },
      "execution_count": null,
      "outputs": [
        {
          "output_type": "execute_result",
          "data": {
            "text/plain": [
              "0"
            ]
          },
          "metadata": {},
          "execution_count": 16
        }
      ]
    },
    {
      "cell_type": "code",
      "source": [
        "# Are the bottom 25% of films actually profitable or do they lose money?\n",
        "print(clean_df.quantile(0.25))\n",
        "print(\"The data above shows that on average, the bottom 25% spends 5MM and profits 5,195MM.\")"
      ],
      "metadata": {
        "id": "FXzRqeT7zWRS",
        "colab": {
          "base_uri": "https://localhost:8080/"
        },
        "outputId": "3e27ec53-4fc0-416b-d4fc-27916e8bae5c"
      },
      "execution_count": null,
      "outputs": [
        {
          "output_type": "stream",
          "name": "stdout",
          "text": [
            "Rank                        1,348.50\n",
            "USD_Production_Budget   5,000,000.00\n",
            "USD_Worldwide_Gross     3,865,206.00\n",
            "USD_Domestic_Gross      1,330,901.50\n",
            "Name: 0.25, dtype: float64\n",
            "The data above shows that on average, the bottom 25% spends 5MM and profits 5,195MM.\n"
          ]
        }
      ]
    },
    {
      "cell_type": "code",
      "source": [
        "# What are the highest production budget and highest worldwide gross revenue of any film?\n",
        "# Highest Production Budget\n",
        "clean_df.sort_values(by='USD_Production_Budget', ascending=False).head(1)"
      ],
      "metadata": {
        "id": "Q53wMiKjzWW2",
        "colab": {
          "base_uri": "https://localhost:8080/"
        },
        "outputId": "a5eef150-8901-4c34-d909-4014727ced0e"
      },
      "execution_count": null,
      "outputs": [
        {
          "output_type": "execute_result",
          "data": {
            "text/plain": [
              "      Rank Release_Date Movie_Title  USD_Production_Budget  \\\n",
              "3529     1   2009-12-18      Avatar              425000000   \n",
              "\n",
              "      USD_Worldwide_Gross  USD_Domestic_Gross  \n",
              "3529           2783918982           760507625  "
            ],
            "text/html": [
              "\n",
              "  <div id=\"df-5c4a096b-c9f4-4d4a-903a-caab0adb431e\">\n",
              "    <div class=\"colab-df-container\">\n",
              "      <div>\n",
              "<style scoped>\n",
              "    .dataframe tbody tr th:only-of-type {\n",
              "        vertical-align: middle;\n",
              "    }\n",
              "\n",
              "    .dataframe tbody tr th {\n",
              "        vertical-align: top;\n",
              "    }\n",
              "\n",
              "    .dataframe thead th {\n",
              "        text-align: right;\n",
              "    }\n",
              "</style>\n",
              "<table border=\"1\" class=\"dataframe\">\n",
              "  <thead>\n",
              "    <tr style=\"text-align: right;\">\n",
              "      <th></th>\n",
              "      <th>Rank</th>\n",
              "      <th>Release_Date</th>\n",
              "      <th>Movie_Title</th>\n",
              "      <th>USD_Production_Budget</th>\n",
              "      <th>USD_Worldwide_Gross</th>\n",
              "      <th>USD_Domestic_Gross</th>\n",
              "    </tr>\n",
              "  </thead>\n",
              "  <tbody>\n",
              "    <tr>\n",
              "      <th>3529</th>\n",
              "      <td>1</td>\n",
              "      <td>2009-12-18</td>\n",
              "      <td>Avatar</td>\n",
              "      <td>425000000</td>\n",
              "      <td>2783918982</td>\n",
              "      <td>760507625</td>\n",
              "    </tr>\n",
              "  </tbody>\n",
              "</table>\n",
              "</div>\n",
              "      <button class=\"colab-df-convert\" onclick=\"convertToInteractive('df-5c4a096b-c9f4-4d4a-903a-caab0adb431e')\"\n",
              "              title=\"Convert this dataframe to an interactive table.\"\n",
              "              style=\"display:none;\">\n",
              "        \n",
              "  <svg xmlns=\"http://www.w3.org/2000/svg\" height=\"24px\"viewBox=\"0 0 24 24\"\n",
              "       width=\"24px\">\n",
              "    <path d=\"M0 0h24v24H0V0z\" fill=\"none\"/>\n",
              "    <path d=\"M18.56 5.44l.94 2.06.94-2.06 2.06-.94-2.06-.94-.94-2.06-.94 2.06-2.06.94zm-11 1L8.5 8.5l.94-2.06 2.06-.94-2.06-.94L8.5 2.5l-.94 2.06-2.06.94zm10 10l.94 2.06.94-2.06 2.06-.94-2.06-.94-.94-2.06-.94 2.06-2.06.94z\"/><path d=\"M17.41 7.96l-1.37-1.37c-.4-.4-.92-.59-1.43-.59-.52 0-1.04.2-1.43.59L10.3 9.45l-7.72 7.72c-.78.78-.78 2.05 0 2.83L4 21.41c.39.39.9.59 1.41.59.51 0 1.02-.2 1.41-.59l7.78-7.78 2.81-2.81c.8-.78.8-2.07 0-2.86zM5.41 20L4 18.59l7.72-7.72 1.47 1.35L5.41 20z\"/>\n",
              "  </svg>\n",
              "      </button>\n",
              "      \n",
              "  <style>\n",
              "    .colab-df-container {\n",
              "      display:flex;\n",
              "      flex-wrap:wrap;\n",
              "      gap: 12px;\n",
              "    }\n",
              "\n",
              "    .colab-df-convert {\n",
              "      background-color: #E8F0FE;\n",
              "      border: none;\n",
              "      border-radius: 50%;\n",
              "      cursor: pointer;\n",
              "      display: none;\n",
              "      fill: #1967D2;\n",
              "      height: 32px;\n",
              "      padding: 0 0 0 0;\n",
              "      width: 32px;\n",
              "    }\n",
              "\n",
              "    .colab-df-convert:hover {\n",
              "      background-color: #E2EBFA;\n",
              "      box-shadow: 0px 1px 2px rgba(60, 64, 67, 0.3), 0px 1px 3px 1px rgba(60, 64, 67, 0.15);\n",
              "      fill: #174EA6;\n",
              "    }\n",
              "\n",
              "    [theme=dark] .colab-df-convert {\n",
              "      background-color: #3B4455;\n",
              "      fill: #D2E3FC;\n",
              "    }\n",
              "\n",
              "    [theme=dark] .colab-df-convert:hover {\n",
              "      background-color: #434B5C;\n",
              "      box-shadow: 0px 1px 3px 1px rgba(0, 0, 0, 0.15);\n",
              "      filter: drop-shadow(0px 1px 2px rgba(0, 0, 0, 0.3));\n",
              "      fill: #FFFFFF;\n",
              "    }\n",
              "  </style>\n",
              "\n",
              "      <script>\n",
              "        const buttonEl =\n",
              "          document.querySelector('#df-5c4a096b-c9f4-4d4a-903a-caab0adb431e button.colab-df-convert');\n",
              "        buttonEl.style.display =\n",
              "          google.colab.kernel.accessAllowed ? 'block' : 'none';\n",
              "\n",
              "        async function convertToInteractive(key) {\n",
              "          const element = document.querySelector('#df-5c4a096b-c9f4-4d4a-903a-caab0adb431e');\n",
              "          const dataTable =\n",
              "            await google.colab.kernel.invokeFunction('convertToInteractive',\n",
              "                                                     [key], {});\n",
              "          if (!dataTable) return;\n",
              "\n",
              "          const docLinkHtml = 'Like what you see? Visit the ' +\n",
              "            '<a target=\"_blank\" href=https://colab.research.google.com/notebooks/data_table.ipynb>data table notebook</a>'\n",
              "            + ' to learn more about interactive tables.';\n",
              "          element.innerHTML = '';\n",
              "          dataTable['output_type'] = 'display_data';\n",
              "          await google.colab.output.renderOutput(dataTable, element);\n",
              "          const docLink = document.createElement('div');\n",
              "          docLink.innerHTML = docLinkHtml;\n",
              "          element.appendChild(docLink);\n",
              "        }\n",
              "      </script>\n",
              "    </div>\n",
              "  </div>\n",
              "  "
            ]
          },
          "metadata": {},
          "execution_count": 18
        }
      ]
    },
    {
      "cell_type": "code",
      "source": [
        "# Highest Worldwide Gross Revenue\n",
        "clean_df.sort_values(by='USD_Worldwide_Gross', ascending=False).head(1)"
      ],
      "metadata": {
        "colab": {
          "base_uri": "https://localhost:8080/"
        },
        "id": "u2eL7n4izUJf",
        "outputId": "8d09d5b6-99df-4af9-ea8a-ff683545d7ab"
      },
      "execution_count": null,
      "outputs": [
        {
          "output_type": "execute_result",
          "data": {
            "text/plain": [
              "      Rank Release_Date Movie_Title  USD_Production_Budget  \\\n",
              "3529     1   2009-12-18      Avatar              425000000   \n",
              "\n",
              "      USD_Worldwide_Gross  USD_Domestic_Gross  \n",
              "3529           2783918982           760507625  "
            ],
            "text/html": [
              "\n",
              "  <div id=\"df-769ce38d-6b1c-439b-9872-17d04116cc11\">\n",
              "    <div class=\"colab-df-container\">\n",
              "      <div>\n",
              "<style scoped>\n",
              "    .dataframe tbody tr th:only-of-type {\n",
              "        vertical-align: middle;\n",
              "    }\n",
              "\n",
              "    .dataframe tbody tr th {\n",
              "        vertical-align: top;\n",
              "    }\n",
              "\n",
              "    .dataframe thead th {\n",
              "        text-align: right;\n",
              "    }\n",
              "</style>\n",
              "<table border=\"1\" class=\"dataframe\">\n",
              "  <thead>\n",
              "    <tr style=\"text-align: right;\">\n",
              "      <th></th>\n",
              "      <th>Rank</th>\n",
              "      <th>Release_Date</th>\n",
              "      <th>Movie_Title</th>\n",
              "      <th>USD_Production_Budget</th>\n",
              "      <th>USD_Worldwide_Gross</th>\n",
              "      <th>USD_Domestic_Gross</th>\n",
              "    </tr>\n",
              "  </thead>\n",
              "  <tbody>\n",
              "    <tr>\n",
              "      <th>3529</th>\n",
              "      <td>1</td>\n",
              "      <td>2009-12-18</td>\n",
              "      <td>Avatar</td>\n",
              "      <td>425000000</td>\n",
              "      <td>2783918982</td>\n",
              "      <td>760507625</td>\n",
              "    </tr>\n",
              "  </tbody>\n",
              "</table>\n",
              "</div>\n",
              "      <button class=\"colab-df-convert\" onclick=\"convertToInteractive('df-769ce38d-6b1c-439b-9872-17d04116cc11')\"\n",
              "              title=\"Convert this dataframe to an interactive table.\"\n",
              "              style=\"display:none;\">\n",
              "        \n",
              "  <svg xmlns=\"http://www.w3.org/2000/svg\" height=\"24px\"viewBox=\"0 0 24 24\"\n",
              "       width=\"24px\">\n",
              "    <path d=\"M0 0h24v24H0V0z\" fill=\"none\"/>\n",
              "    <path d=\"M18.56 5.44l.94 2.06.94-2.06 2.06-.94-2.06-.94-.94-2.06-.94 2.06-2.06.94zm-11 1L8.5 8.5l.94-2.06 2.06-.94-2.06-.94L8.5 2.5l-.94 2.06-2.06.94zm10 10l.94 2.06.94-2.06 2.06-.94-2.06-.94-.94-2.06-.94 2.06-2.06.94z\"/><path d=\"M17.41 7.96l-1.37-1.37c-.4-.4-.92-.59-1.43-.59-.52 0-1.04.2-1.43.59L10.3 9.45l-7.72 7.72c-.78.78-.78 2.05 0 2.83L4 21.41c.39.39.9.59 1.41.59.51 0 1.02-.2 1.41-.59l7.78-7.78 2.81-2.81c.8-.78.8-2.07 0-2.86zM5.41 20L4 18.59l7.72-7.72 1.47 1.35L5.41 20z\"/>\n",
              "  </svg>\n",
              "      </button>\n",
              "      \n",
              "  <style>\n",
              "    .colab-df-container {\n",
              "      display:flex;\n",
              "      flex-wrap:wrap;\n",
              "      gap: 12px;\n",
              "    }\n",
              "\n",
              "    .colab-df-convert {\n",
              "      background-color: #E8F0FE;\n",
              "      border: none;\n",
              "      border-radius: 50%;\n",
              "      cursor: pointer;\n",
              "      display: none;\n",
              "      fill: #1967D2;\n",
              "      height: 32px;\n",
              "      padding: 0 0 0 0;\n",
              "      width: 32px;\n",
              "    }\n",
              "\n",
              "    .colab-df-convert:hover {\n",
              "      background-color: #E2EBFA;\n",
              "      box-shadow: 0px 1px 2px rgba(60, 64, 67, 0.3), 0px 1px 3px 1px rgba(60, 64, 67, 0.15);\n",
              "      fill: #174EA6;\n",
              "    }\n",
              "\n",
              "    [theme=dark] .colab-df-convert {\n",
              "      background-color: #3B4455;\n",
              "      fill: #D2E3FC;\n",
              "    }\n",
              "\n",
              "    [theme=dark] .colab-df-convert:hover {\n",
              "      background-color: #434B5C;\n",
              "      box-shadow: 0px 1px 3px 1px rgba(0, 0, 0, 0.15);\n",
              "      filter: drop-shadow(0px 1px 2px rgba(0, 0, 0, 0.3));\n",
              "      fill: #FFFFFF;\n",
              "    }\n",
              "  </style>\n",
              "\n",
              "      <script>\n",
              "        const buttonEl =\n",
              "          document.querySelector('#df-769ce38d-6b1c-439b-9872-17d04116cc11 button.colab-df-convert');\n",
              "        buttonEl.style.display =\n",
              "          google.colab.kernel.accessAllowed ? 'block' : 'none';\n",
              "\n",
              "        async function convertToInteractive(key) {\n",
              "          const element = document.querySelector('#df-769ce38d-6b1c-439b-9872-17d04116cc11');\n",
              "          const dataTable =\n",
              "            await google.colab.kernel.invokeFunction('convertToInteractive',\n",
              "                                                     [key], {});\n",
              "          if (!dataTable) return;\n",
              "\n",
              "          const docLinkHtml = 'Like what you see? Visit the ' +\n",
              "            '<a target=\"_blank\" href=https://colab.research.google.com/notebooks/data_table.ipynb>data table notebook</a>'\n",
              "            + ' to learn more about interactive tables.';\n",
              "          element.innerHTML = '';\n",
              "          dataTable['output_type'] = 'display_data';\n",
              "          await google.colab.output.renderOutput(dataTable, element);\n",
              "          const docLink = document.createElement('div');\n",
              "          docLink.innerHTML = docLinkHtml;\n",
              "          element.appendChild(docLink);\n",
              "        }\n",
              "      </script>\n",
              "    </div>\n",
              "  </div>\n",
              "  "
            ]
          },
          "metadata": {},
          "execution_count": 19
        }
      ]
    },
    {
      "cell_type": "code",
      "source": [
        "# How much revenue did the lowest and highest budget films make?\n",
        "clean_df.sort_values(by='USD_Production_Budget', ascending=True).head(1)"
      ],
      "metadata": {
        "id": "FnLq05IjzWu1",
        "colab": {
          "base_uri": "https://localhost:8080/"
        },
        "outputId": "0d3234e1-c652-45c1-ce93-9acb484d5a1a"
      },
      "execution_count": null,
      "outputs": [
        {
          "output_type": "execute_result",
          "data": {
            "text/plain": [
              "      Rank Release_Date        Movie_Title  USD_Production_Budget  \\\n",
              "2427  5391   2005-05-08  My Date With Drew                   1100   \n",
              "\n",
              "      USD_Worldwide_Gross  USD_Domestic_Gross  \n",
              "2427               181041              181041  "
            ],
            "text/html": [
              "\n",
              "  <div id=\"df-a6de9787-1090-4d7b-a27c-edc0cce84513\">\n",
              "    <div class=\"colab-df-container\">\n",
              "      <div>\n",
              "<style scoped>\n",
              "    .dataframe tbody tr th:only-of-type {\n",
              "        vertical-align: middle;\n",
              "    }\n",
              "\n",
              "    .dataframe tbody tr th {\n",
              "        vertical-align: top;\n",
              "    }\n",
              "\n",
              "    .dataframe thead th {\n",
              "        text-align: right;\n",
              "    }\n",
              "</style>\n",
              "<table border=\"1\" class=\"dataframe\">\n",
              "  <thead>\n",
              "    <tr style=\"text-align: right;\">\n",
              "      <th></th>\n",
              "      <th>Rank</th>\n",
              "      <th>Release_Date</th>\n",
              "      <th>Movie_Title</th>\n",
              "      <th>USD_Production_Budget</th>\n",
              "      <th>USD_Worldwide_Gross</th>\n",
              "      <th>USD_Domestic_Gross</th>\n",
              "    </tr>\n",
              "  </thead>\n",
              "  <tbody>\n",
              "    <tr>\n",
              "      <th>2427</th>\n",
              "      <td>5391</td>\n",
              "      <td>2005-05-08</td>\n",
              "      <td>My Date With Drew</td>\n",
              "      <td>1100</td>\n",
              "      <td>181041</td>\n",
              "      <td>181041</td>\n",
              "    </tr>\n",
              "  </tbody>\n",
              "</table>\n",
              "</div>\n",
              "      <button class=\"colab-df-convert\" onclick=\"convertToInteractive('df-a6de9787-1090-4d7b-a27c-edc0cce84513')\"\n",
              "              title=\"Convert this dataframe to an interactive table.\"\n",
              "              style=\"display:none;\">\n",
              "        \n",
              "  <svg xmlns=\"http://www.w3.org/2000/svg\" height=\"24px\"viewBox=\"0 0 24 24\"\n",
              "       width=\"24px\">\n",
              "    <path d=\"M0 0h24v24H0V0z\" fill=\"none\"/>\n",
              "    <path d=\"M18.56 5.44l.94 2.06.94-2.06 2.06-.94-2.06-.94-.94-2.06-.94 2.06-2.06.94zm-11 1L8.5 8.5l.94-2.06 2.06-.94-2.06-.94L8.5 2.5l-.94 2.06-2.06.94zm10 10l.94 2.06.94-2.06 2.06-.94-2.06-.94-.94-2.06-.94 2.06-2.06.94z\"/><path d=\"M17.41 7.96l-1.37-1.37c-.4-.4-.92-.59-1.43-.59-.52 0-1.04.2-1.43.59L10.3 9.45l-7.72 7.72c-.78.78-.78 2.05 0 2.83L4 21.41c.39.39.9.59 1.41.59.51 0 1.02-.2 1.41-.59l7.78-7.78 2.81-2.81c.8-.78.8-2.07 0-2.86zM5.41 20L4 18.59l7.72-7.72 1.47 1.35L5.41 20z\"/>\n",
              "  </svg>\n",
              "      </button>\n",
              "      \n",
              "  <style>\n",
              "    .colab-df-container {\n",
              "      display:flex;\n",
              "      flex-wrap:wrap;\n",
              "      gap: 12px;\n",
              "    }\n",
              "\n",
              "    .colab-df-convert {\n",
              "      background-color: #E8F0FE;\n",
              "      border: none;\n",
              "      border-radius: 50%;\n",
              "      cursor: pointer;\n",
              "      display: none;\n",
              "      fill: #1967D2;\n",
              "      height: 32px;\n",
              "      padding: 0 0 0 0;\n",
              "      width: 32px;\n",
              "    }\n",
              "\n",
              "    .colab-df-convert:hover {\n",
              "      background-color: #E2EBFA;\n",
              "      box-shadow: 0px 1px 2px rgba(60, 64, 67, 0.3), 0px 1px 3px 1px rgba(60, 64, 67, 0.15);\n",
              "      fill: #174EA6;\n",
              "    }\n",
              "\n",
              "    [theme=dark] .colab-df-convert {\n",
              "      background-color: #3B4455;\n",
              "      fill: #D2E3FC;\n",
              "    }\n",
              "\n",
              "    [theme=dark] .colab-df-convert:hover {\n",
              "      background-color: #434B5C;\n",
              "      box-shadow: 0px 1px 3px 1px rgba(0, 0, 0, 0.15);\n",
              "      filter: drop-shadow(0px 1px 2px rgba(0, 0, 0, 0.3));\n",
              "      fill: #FFFFFF;\n",
              "    }\n",
              "  </style>\n",
              "\n",
              "      <script>\n",
              "        const buttonEl =\n",
              "          document.querySelector('#df-a6de9787-1090-4d7b-a27c-edc0cce84513 button.colab-df-convert');\n",
              "        buttonEl.style.display =\n",
              "          google.colab.kernel.accessAllowed ? 'block' : 'none';\n",
              "\n",
              "        async function convertToInteractive(key) {\n",
              "          const element = document.querySelector('#df-a6de9787-1090-4d7b-a27c-edc0cce84513');\n",
              "          const dataTable =\n",
              "            await google.colab.kernel.invokeFunction('convertToInteractive',\n",
              "                                                     [key], {});\n",
              "          if (!dataTable) return;\n",
              "\n",
              "          const docLinkHtml = 'Like what you see? Visit the ' +\n",
              "            '<a target=\"_blank\" href=https://colab.research.google.com/notebooks/data_table.ipynb>data table notebook</a>'\n",
              "            + ' to learn more about interactive tables.';\n",
              "          element.innerHTML = '';\n",
              "          dataTable['output_type'] = 'display_data';\n",
              "          await google.colab.output.renderOutput(dataTable, element);\n",
              "          const docLink = document.createElement('div');\n",
              "          docLink.innerHTML = docLinkHtml;\n",
              "          element.appendChild(docLink);\n",
              "        }\n",
              "      </script>\n",
              "    </div>\n",
              "  </div>\n",
              "  "
            ]
          },
          "metadata": {},
          "execution_count": 20
        }
      ]
    },
    {
      "cell_type": "markdown",
      "source": [
        "The highest gross Revenue and Budget both belong to Avatar. The lowest budget is from a movie called My Date With Drew. The movie profited around 165 times its budget."
      ],
      "metadata": {
        "id": "AIMX-bKfzpzG"
      }
    },
    {
      "cell_type": "markdown",
      "metadata": {
        "id": "Cj-ug32JyEhp"
      },
      "source": [
        "# Investigating the Zero Revenue Films"
      ]
    },
    {
      "cell_type": "markdown",
      "metadata": {
        "id": "U9hm-pb4xTjY"
      },
      "source": [
        "**Challenge** How many films grossed $0 domestically (i.e., in the United States)? What were the highest budget films that grossed nothing?"
      ]
    },
    {
      "cell_type": "code",
      "metadata": {
        "id": "MXuRYdy0TWkt",
        "colab": {
          "base_uri": "https://localhost:8080/"
        },
        "outputId": "47861fd6-2a59-46d0-d8bc-835d0e0eaafc"
      },
      "source": [
        "zero_revenue_movies = clean_df[clean_df['USD_Domestic_Gross']==0].sort_values(by='USD_Production_Budget', ascending=False)\n",
        "zero_revenue_movies_count = zero_revenue_movies['USD_Domestic_Gross'].count()\n",
        "\n",
        "print(f\"There were {zero_revenue_movies_count} movies that grossed $0 domestically.\")"
      ],
      "execution_count": null,
      "outputs": [
        {
          "output_type": "stream",
          "name": "stdout",
          "text": [
            "There were 512 movies that grossed $0 domestically.\n"
          ]
        }
      ]
    },
    {
      "cell_type": "code",
      "source": [
        "zero_revenue_movies.head(5)"
      ],
      "metadata": {
        "id": "kxBmcma8s03H",
        "colab": {
          "base_uri": "https://localhost:8080/",
          "height": 206
        },
        "outputId": "de9a9a64-d680-47ab-97c9-dfe6e21cfaf7"
      },
      "execution_count": null,
      "outputs": [
        {
          "output_type": "execute_result",
          "data": {
            "text/plain": [
              "      Rank Release_Date                         Movie_Title  \\\n",
              "5388    96   2020-12-31                         Singularity   \n",
              "5387   126   2018-12-18                             Aquaman   \n",
              "5384   321   2018-09-03                   A Wrinkle in Time   \n",
              "5385   366   2018-10-08                      Amusement Park   \n",
              "5090   556   2015-12-31  Don Gato, el inicio de la pandilla   \n",
              "\n",
              "      USD_Production_Budget  USD_Worldwide_Gross  USD_Domestic_Gross  \n",
              "5388              175000000                    0                   0  \n",
              "5387              160000000                    0                   0  \n",
              "5384              103000000                    0                   0  \n",
              "5385              100000000                    0                   0  \n",
              "5090               80000000              4547660                   0  "
            ],
            "text/html": [
              "\n",
              "  <div id=\"df-2b079919-542b-48aa-894f-590b77ac8d5d\">\n",
              "    <div class=\"colab-df-container\">\n",
              "      <div>\n",
              "<style scoped>\n",
              "    .dataframe tbody tr th:only-of-type {\n",
              "        vertical-align: middle;\n",
              "    }\n",
              "\n",
              "    .dataframe tbody tr th {\n",
              "        vertical-align: top;\n",
              "    }\n",
              "\n",
              "    .dataframe thead th {\n",
              "        text-align: right;\n",
              "    }\n",
              "</style>\n",
              "<table border=\"1\" class=\"dataframe\">\n",
              "  <thead>\n",
              "    <tr style=\"text-align: right;\">\n",
              "      <th></th>\n",
              "      <th>Rank</th>\n",
              "      <th>Release_Date</th>\n",
              "      <th>Movie_Title</th>\n",
              "      <th>USD_Production_Budget</th>\n",
              "      <th>USD_Worldwide_Gross</th>\n",
              "      <th>USD_Domestic_Gross</th>\n",
              "    </tr>\n",
              "  </thead>\n",
              "  <tbody>\n",
              "    <tr>\n",
              "      <th>5388</th>\n",
              "      <td>96</td>\n",
              "      <td>2020-12-31</td>\n",
              "      <td>Singularity</td>\n",
              "      <td>175000000</td>\n",
              "      <td>0</td>\n",
              "      <td>0</td>\n",
              "    </tr>\n",
              "    <tr>\n",
              "      <th>5387</th>\n",
              "      <td>126</td>\n",
              "      <td>2018-12-18</td>\n",
              "      <td>Aquaman</td>\n",
              "      <td>160000000</td>\n",
              "      <td>0</td>\n",
              "      <td>0</td>\n",
              "    </tr>\n",
              "    <tr>\n",
              "      <th>5384</th>\n",
              "      <td>321</td>\n",
              "      <td>2018-09-03</td>\n",
              "      <td>A Wrinkle in Time</td>\n",
              "      <td>103000000</td>\n",
              "      <td>0</td>\n",
              "      <td>0</td>\n",
              "    </tr>\n",
              "    <tr>\n",
              "      <th>5385</th>\n",
              "      <td>366</td>\n",
              "      <td>2018-10-08</td>\n",
              "      <td>Amusement Park</td>\n",
              "      <td>100000000</td>\n",
              "      <td>0</td>\n",
              "      <td>0</td>\n",
              "    </tr>\n",
              "    <tr>\n",
              "      <th>5090</th>\n",
              "      <td>556</td>\n",
              "      <td>2015-12-31</td>\n",
              "      <td>Don Gato, el inicio de la pandilla</td>\n",
              "      <td>80000000</td>\n",
              "      <td>4547660</td>\n",
              "      <td>0</td>\n",
              "    </tr>\n",
              "  </tbody>\n",
              "</table>\n",
              "</div>\n",
              "      <button class=\"colab-df-convert\" onclick=\"convertToInteractive('df-2b079919-542b-48aa-894f-590b77ac8d5d')\"\n",
              "              title=\"Convert this dataframe to an interactive table.\"\n",
              "              style=\"display:none;\">\n",
              "        \n",
              "  <svg xmlns=\"http://www.w3.org/2000/svg\" height=\"24px\"viewBox=\"0 0 24 24\"\n",
              "       width=\"24px\">\n",
              "    <path d=\"M0 0h24v24H0V0z\" fill=\"none\"/>\n",
              "    <path d=\"M18.56 5.44l.94 2.06.94-2.06 2.06-.94-2.06-.94-.94-2.06-.94 2.06-2.06.94zm-11 1L8.5 8.5l.94-2.06 2.06-.94-2.06-.94L8.5 2.5l-.94 2.06-2.06.94zm10 10l.94 2.06.94-2.06 2.06-.94-2.06-.94-.94-2.06-.94 2.06-2.06.94z\"/><path d=\"M17.41 7.96l-1.37-1.37c-.4-.4-.92-.59-1.43-.59-.52 0-1.04.2-1.43.59L10.3 9.45l-7.72 7.72c-.78.78-.78 2.05 0 2.83L4 21.41c.39.39.9.59 1.41.59.51 0 1.02-.2 1.41-.59l7.78-7.78 2.81-2.81c.8-.78.8-2.07 0-2.86zM5.41 20L4 18.59l7.72-7.72 1.47 1.35L5.41 20z\"/>\n",
              "  </svg>\n",
              "      </button>\n",
              "      \n",
              "  <style>\n",
              "    .colab-df-container {\n",
              "      display:flex;\n",
              "      flex-wrap:wrap;\n",
              "      gap: 12px;\n",
              "    }\n",
              "\n",
              "    .colab-df-convert {\n",
              "      background-color: #E8F0FE;\n",
              "      border: none;\n",
              "      border-radius: 50%;\n",
              "      cursor: pointer;\n",
              "      display: none;\n",
              "      fill: #1967D2;\n",
              "      height: 32px;\n",
              "      padding: 0 0 0 0;\n",
              "      width: 32px;\n",
              "    }\n",
              "\n",
              "    .colab-df-convert:hover {\n",
              "      background-color: #E2EBFA;\n",
              "      box-shadow: 0px 1px 2px rgba(60, 64, 67, 0.3), 0px 1px 3px 1px rgba(60, 64, 67, 0.15);\n",
              "      fill: #174EA6;\n",
              "    }\n",
              "\n",
              "    [theme=dark] .colab-df-convert {\n",
              "      background-color: #3B4455;\n",
              "      fill: #D2E3FC;\n",
              "    }\n",
              "\n",
              "    [theme=dark] .colab-df-convert:hover {\n",
              "      background-color: #434B5C;\n",
              "      box-shadow: 0px 1px 3px 1px rgba(0, 0, 0, 0.15);\n",
              "      filter: drop-shadow(0px 1px 2px rgba(0, 0, 0, 0.3));\n",
              "      fill: #FFFFFF;\n",
              "    }\n",
              "  </style>\n",
              "\n",
              "      <script>\n",
              "        const buttonEl =\n",
              "          document.querySelector('#df-2b079919-542b-48aa-894f-590b77ac8d5d button.colab-df-convert');\n",
              "        buttonEl.style.display =\n",
              "          google.colab.kernel.accessAllowed ? 'block' : 'none';\n",
              "\n",
              "        async function convertToInteractive(key) {\n",
              "          const element = document.querySelector('#df-2b079919-542b-48aa-894f-590b77ac8d5d');\n",
              "          const dataTable =\n",
              "            await google.colab.kernel.invokeFunction('convertToInteractive',\n",
              "                                                     [key], {});\n",
              "          if (!dataTable) return;\n",
              "\n",
              "          const docLinkHtml = 'Like what you see? Visit the ' +\n",
              "            '<a target=\"_blank\" href=https://colab.research.google.com/notebooks/data_table.ipynb>data table notebook</a>'\n",
              "            + ' to learn more about interactive tables.';\n",
              "          element.innerHTML = '';\n",
              "          dataTable['output_type'] = 'display_data';\n",
              "          await google.colab.output.renderOutput(dataTable, element);\n",
              "          const docLink = document.createElement('div');\n",
              "          docLink.innerHTML = docLinkHtml;\n",
              "          element.appendChild(docLink);\n",
              "        }\n",
              "      </script>\n",
              "    </div>\n",
              "  </div>\n",
              "  "
            ]
          },
          "metadata": {},
          "execution_count": 22
        }
      ]
    },
    {
      "cell_type": "markdown",
      "metadata": {
        "id": "mY8SAwI0x73b"
      },
      "source": [
        "**Challenge**: How many films grossed $0 worldwide? What are the highest budget films that had no revenue internationally?"
      ]
    },
    {
      "cell_type": "code",
      "metadata": {
        "id": "VpfocexxTXym",
        "colab": {
          "base_uri": "https://localhost:8080/"
        },
        "outputId": "5d938932-b982-43f0-d930-8710eebfe6c4"
      },
      "source": [
        "zero_revenue_movies_internationally = clean_df[clean_df['USD_Worldwide_Gross']==0].sort_values(by='USD_Production_Budget', ascending=False)\n",
        "zero_revenue_movies_count_internationally = zero_revenue_movies_internationally[\"Movie_Title\"].count()\n",
        "\n",
        "print(f\"There were {zero_revenue_movies_count_internationally} movies that grossed $0 internationally.\")"
      ],
      "execution_count": null,
      "outputs": [
        {
          "output_type": "stream",
          "name": "stdout",
          "text": [
            "There were 357 movies that grossed $0 internationally.\n"
          ]
        }
      ]
    },
    {
      "cell_type": "code",
      "source": [
        "zero_revenue_movies_internationally.head(5)"
      ],
      "metadata": {
        "id": "IPxny4vYuAMP",
        "colab": {
          "base_uri": "https://localhost:8080/",
          "height": 206
        },
        "outputId": "0e0fd816-a0dd-4720-d7d9-2ae7bbf8c73b"
      },
      "execution_count": null,
      "outputs": [
        {
          "output_type": "execute_result",
          "data": {
            "text/plain": [
              "      Rank Release_Date        Movie_Title  USD_Production_Budget  \\\n",
              "5388    96   2020-12-31        Singularity              175000000   \n",
              "5387   126   2018-12-18            Aquaman              160000000   \n",
              "5384   321   2018-09-03  A Wrinkle in Time              103000000   \n",
              "5385   366   2018-10-08     Amusement Park              100000000   \n",
              "5058   880   2015-11-12   The Ridiculous 6               60000000   \n",
              "\n",
              "      USD_Worldwide_Gross  USD_Domestic_Gross  \n",
              "5388                    0                   0  \n",
              "5387                    0                   0  \n",
              "5384                    0                   0  \n",
              "5385                    0                   0  \n",
              "5058                    0                   0  "
            ],
            "text/html": [
              "\n",
              "  <div id=\"df-e98fe767-5f0c-4829-8679-f3de10c86b1a\">\n",
              "    <div class=\"colab-df-container\">\n",
              "      <div>\n",
              "<style scoped>\n",
              "    .dataframe tbody tr th:only-of-type {\n",
              "        vertical-align: middle;\n",
              "    }\n",
              "\n",
              "    .dataframe tbody tr th {\n",
              "        vertical-align: top;\n",
              "    }\n",
              "\n",
              "    .dataframe thead th {\n",
              "        text-align: right;\n",
              "    }\n",
              "</style>\n",
              "<table border=\"1\" class=\"dataframe\">\n",
              "  <thead>\n",
              "    <tr style=\"text-align: right;\">\n",
              "      <th></th>\n",
              "      <th>Rank</th>\n",
              "      <th>Release_Date</th>\n",
              "      <th>Movie_Title</th>\n",
              "      <th>USD_Production_Budget</th>\n",
              "      <th>USD_Worldwide_Gross</th>\n",
              "      <th>USD_Domestic_Gross</th>\n",
              "    </tr>\n",
              "  </thead>\n",
              "  <tbody>\n",
              "    <tr>\n",
              "      <th>5388</th>\n",
              "      <td>96</td>\n",
              "      <td>2020-12-31</td>\n",
              "      <td>Singularity</td>\n",
              "      <td>175000000</td>\n",
              "      <td>0</td>\n",
              "      <td>0</td>\n",
              "    </tr>\n",
              "    <tr>\n",
              "      <th>5387</th>\n",
              "      <td>126</td>\n",
              "      <td>2018-12-18</td>\n",
              "      <td>Aquaman</td>\n",
              "      <td>160000000</td>\n",
              "      <td>0</td>\n",
              "      <td>0</td>\n",
              "    </tr>\n",
              "    <tr>\n",
              "      <th>5384</th>\n",
              "      <td>321</td>\n",
              "      <td>2018-09-03</td>\n",
              "      <td>A Wrinkle in Time</td>\n",
              "      <td>103000000</td>\n",
              "      <td>0</td>\n",
              "      <td>0</td>\n",
              "    </tr>\n",
              "    <tr>\n",
              "      <th>5385</th>\n",
              "      <td>366</td>\n",
              "      <td>2018-10-08</td>\n",
              "      <td>Amusement Park</td>\n",
              "      <td>100000000</td>\n",
              "      <td>0</td>\n",
              "      <td>0</td>\n",
              "    </tr>\n",
              "    <tr>\n",
              "      <th>5058</th>\n",
              "      <td>880</td>\n",
              "      <td>2015-11-12</td>\n",
              "      <td>The Ridiculous 6</td>\n",
              "      <td>60000000</td>\n",
              "      <td>0</td>\n",
              "      <td>0</td>\n",
              "    </tr>\n",
              "  </tbody>\n",
              "</table>\n",
              "</div>\n",
              "      <button class=\"colab-df-convert\" onclick=\"convertToInteractive('df-e98fe767-5f0c-4829-8679-f3de10c86b1a')\"\n",
              "              title=\"Convert this dataframe to an interactive table.\"\n",
              "              style=\"display:none;\">\n",
              "        \n",
              "  <svg xmlns=\"http://www.w3.org/2000/svg\" height=\"24px\"viewBox=\"0 0 24 24\"\n",
              "       width=\"24px\">\n",
              "    <path d=\"M0 0h24v24H0V0z\" fill=\"none\"/>\n",
              "    <path d=\"M18.56 5.44l.94 2.06.94-2.06 2.06-.94-2.06-.94-.94-2.06-.94 2.06-2.06.94zm-11 1L8.5 8.5l.94-2.06 2.06-.94-2.06-.94L8.5 2.5l-.94 2.06-2.06.94zm10 10l.94 2.06.94-2.06 2.06-.94-2.06-.94-.94-2.06-.94 2.06-2.06.94z\"/><path d=\"M17.41 7.96l-1.37-1.37c-.4-.4-.92-.59-1.43-.59-.52 0-1.04.2-1.43.59L10.3 9.45l-7.72 7.72c-.78.78-.78 2.05 0 2.83L4 21.41c.39.39.9.59 1.41.59.51 0 1.02-.2 1.41-.59l7.78-7.78 2.81-2.81c.8-.78.8-2.07 0-2.86zM5.41 20L4 18.59l7.72-7.72 1.47 1.35L5.41 20z\"/>\n",
              "  </svg>\n",
              "      </button>\n",
              "      \n",
              "  <style>\n",
              "    .colab-df-container {\n",
              "      display:flex;\n",
              "      flex-wrap:wrap;\n",
              "      gap: 12px;\n",
              "    }\n",
              "\n",
              "    .colab-df-convert {\n",
              "      background-color: #E8F0FE;\n",
              "      border: none;\n",
              "      border-radius: 50%;\n",
              "      cursor: pointer;\n",
              "      display: none;\n",
              "      fill: #1967D2;\n",
              "      height: 32px;\n",
              "      padding: 0 0 0 0;\n",
              "      width: 32px;\n",
              "    }\n",
              "\n",
              "    .colab-df-convert:hover {\n",
              "      background-color: #E2EBFA;\n",
              "      box-shadow: 0px 1px 2px rgba(60, 64, 67, 0.3), 0px 1px 3px 1px rgba(60, 64, 67, 0.15);\n",
              "      fill: #174EA6;\n",
              "    }\n",
              "\n",
              "    [theme=dark] .colab-df-convert {\n",
              "      background-color: #3B4455;\n",
              "      fill: #D2E3FC;\n",
              "    }\n",
              "\n",
              "    [theme=dark] .colab-df-convert:hover {\n",
              "      background-color: #434B5C;\n",
              "      box-shadow: 0px 1px 3px 1px rgba(0, 0, 0, 0.15);\n",
              "      filter: drop-shadow(0px 1px 2px rgba(0, 0, 0, 0.3));\n",
              "      fill: #FFFFFF;\n",
              "    }\n",
              "  </style>\n",
              "\n",
              "      <script>\n",
              "        const buttonEl =\n",
              "          document.querySelector('#df-e98fe767-5f0c-4829-8679-f3de10c86b1a button.colab-df-convert');\n",
              "        buttonEl.style.display =\n",
              "          google.colab.kernel.accessAllowed ? 'block' : 'none';\n",
              "\n",
              "        async function convertToInteractive(key) {\n",
              "          const element = document.querySelector('#df-e98fe767-5f0c-4829-8679-f3de10c86b1a');\n",
              "          const dataTable =\n",
              "            await google.colab.kernel.invokeFunction('convertToInteractive',\n",
              "                                                     [key], {});\n",
              "          if (!dataTable) return;\n",
              "\n",
              "          const docLinkHtml = 'Like what you see? Visit the ' +\n",
              "            '<a target=\"_blank\" href=https://colab.research.google.com/notebooks/data_table.ipynb>data table notebook</a>'\n",
              "            + ' to learn more about interactive tables.';\n",
              "          element.innerHTML = '';\n",
              "          dataTable['output_type'] = 'display_data';\n",
              "          await google.colab.output.renderOutput(dataTable, element);\n",
              "          const docLink = document.createElement('div');\n",
              "          docLink.innerHTML = docLinkHtml;\n",
              "          element.appendChild(docLink);\n",
              "        }\n",
              "      </script>\n",
              "    </div>\n",
              "  </div>\n",
              "  "
            ]
          },
          "metadata": {},
          "execution_count": 24
        }
      ]
    },
    {
      "cell_type": "markdown",
      "metadata": {
        "id": "eXUDzWpeyV2f"
      },
      "source": [
        "### Filtering on Multiple Conditions"
      ]
    },
    {
      "cell_type": "code",
      "source": [
        "international_releases = clean_df.loc[(clean_df.USD_Domestic_Gross == 0) & \n",
        "                                  (clean_df.USD_Worldwide_Gross != 0)]\n",
        "international_releases"
      ],
      "metadata": {
        "colab": {
          "base_uri": "https://localhost:8080/",
          "height": 424
        },
        "id": "hZMYex50VBHU",
        "outputId": "29676982-452c-4205-8b28-66d0ed0e69cd"
      },
      "execution_count": null,
      "outputs": [
        {
          "output_type": "execute_result",
          "data": {
            "text/plain": [
              "      Rank Release_Date              Movie_Title  USD_Production_Budget  \\\n",
              "71    4310   1956-02-16                 Carousel                3380000   \n",
              "1579  5087   2001-02-11  Everything Put Together                 500000   \n",
              "1744  3695   2001-12-31                 The Hole                7500000   \n",
              "2155  4236   2003-12-31                  Nothing                4000000   \n",
              "2203  2513   2004-03-31                The Touch               20000000   \n",
              "...    ...          ...                      ...                    ...   \n",
              "5340  1506   2017-04-14      Queen of the Desert               36000000   \n",
              "5348  2225   2017-05-05        Chāi dàn zhuānjiā               23000000   \n",
              "5360  4832   2017-07-03                Departure                1100000   \n",
              "5372  1856   2017-08-25                Ballerina               30000000   \n",
              "5374  4237   2017-08-25     Polina danser sa vie                4000000   \n",
              "\n",
              "      USD_Worldwide_Gross  USD_Domestic_Gross  \n",
              "71                   3220                   0  \n",
              "1579                 7890                   0  \n",
              "1744             10834406                   0  \n",
              "2155                63180                   0  \n",
              "2203              5918742                   0  \n",
              "...                   ...                 ...  \n",
              "5340              1480089                   0  \n",
              "5348             58807172                   0  \n",
              "5360                27561                   0  \n",
              "5372             48048527                   0  \n",
              "5374                36630                   0  \n",
              "\n",
              "[155 rows x 6 columns]"
            ],
            "text/html": [
              "\n",
              "  <div id=\"df-1c50aeae-e00d-496c-aa91-eaa624794797\">\n",
              "    <div class=\"colab-df-container\">\n",
              "      <div>\n",
              "<style scoped>\n",
              "    .dataframe tbody tr th:only-of-type {\n",
              "        vertical-align: middle;\n",
              "    }\n",
              "\n",
              "    .dataframe tbody tr th {\n",
              "        vertical-align: top;\n",
              "    }\n",
              "\n",
              "    .dataframe thead th {\n",
              "        text-align: right;\n",
              "    }\n",
              "</style>\n",
              "<table border=\"1\" class=\"dataframe\">\n",
              "  <thead>\n",
              "    <tr style=\"text-align: right;\">\n",
              "      <th></th>\n",
              "      <th>Rank</th>\n",
              "      <th>Release_Date</th>\n",
              "      <th>Movie_Title</th>\n",
              "      <th>USD_Production_Budget</th>\n",
              "      <th>USD_Worldwide_Gross</th>\n",
              "      <th>USD_Domestic_Gross</th>\n",
              "    </tr>\n",
              "  </thead>\n",
              "  <tbody>\n",
              "    <tr>\n",
              "      <th>71</th>\n",
              "      <td>4310</td>\n",
              "      <td>1956-02-16</td>\n",
              "      <td>Carousel</td>\n",
              "      <td>3380000</td>\n",
              "      <td>3220</td>\n",
              "      <td>0</td>\n",
              "    </tr>\n",
              "    <tr>\n",
              "      <th>1579</th>\n",
              "      <td>5087</td>\n",
              "      <td>2001-02-11</td>\n",
              "      <td>Everything Put Together</td>\n",
              "      <td>500000</td>\n",
              "      <td>7890</td>\n",
              "      <td>0</td>\n",
              "    </tr>\n",
              "    <tr>\n",
              "      <th>1744</th>\n",
              "      <td>3695</td>\n",
              "      <td>2001-12-31</td>\n",
              "      <td>The Hole</td>\n",
              "      <td>7500000</td>\n",
              "      <td>10834406</td>\n",
              "      <td>0</td>\n",
              "    </tr>\n",
              "    <tr>\n",
              "      <th>2155</th>\n",
              "      <td>4236</td>\n",
              "      <td>2003-12-31</td>\n",
              "      <td>Nothing</td>\n",
              "      <td>4000000</td>\n",
              "      <td>63180</td>\n",
              "      <td>0</td>\n",
              "    </tr>\n",
              "    <tr>\n",
              "      <th>2203</th>\n",
              "      <td>2513</td>\n",
              "      <td>2004-03-31</td>\n",
              "      <td>The Touch</td>\n",
              "      <td>20000000</td>\n",
              "      <td>5918742</td>\n",
              "      <td>0</td>\n",
              "    </tr>\n",
              "    <tr>\n",
              "      <th>...</th>\n",
              "      <td>...</td>\n",
              "      <td>...</td>\n",
              "      <td>...</td>\n",
              "      <td>...</td>\n",
              "      <td>...</td>\n",
              "      <td>...</td>\n",
              "    </tr>\n",
              "    <tr>\n",
              "      <th>5340</th>\n",
              "      <td>1506</td>\n",
              "      <td>2017-04-14</td>\n",
              "      <td>Queen of the Desert</td>\n",
              "      <td>36000000</td>\n",
              "      <td>1480089</td>\n",
              "      <td>0</td>\n",
              "    </tr>\n",
              "    <tr>\n",
              "      <th>5348</th>\n",
              "      <td>2225</td>\n",
              "      <td>2017-05-05</td>\n",
              "      <td>Chāi dàn zhuānjiā</td>\n",
              "      <td>23000000</td>\n",
              "      <td>58807172</td>\n",
              "      <td>0</td>\n",
              "    </tr>\n",
              "    <tr>\n",
              "      <th>5360</th>\n",
              "      <td>4832</td>\n",
              "      <td>2017-07-03</td>\n",
              "      <td>Departure</td>\n",
              "      <td>1100000</td>\n",
              "      <td>27561</td>\n",
              "      <td>0</td>\n",
              "    </tr>\n",
              "    <tr>\n",
              "      <th>5372</th>\n",
              "      <td>1856</td>\n",
              "      <td>2017-08-25</td>\n",
              "      <td>Ballerina</td>\n",
              "      <td>30000000</td>\n",
              "      <td>48048527</td>\n",
              "      <td>0</td>\n",
              "    </tr>\n",
              "    <tr>\n",
              "      <th>5374</th>\n",
              "      <td>4237</td>\n",
              "      <td>2017-08-25</td>\n",
              "      <td>Polina danser sa vie</td>\n",
              "      <td>4000000</td>\n",
              "      <td>36630</td>\n",
              "      <td>0</td>\n",
              "    </tr>\n",
              "  </tbody>\n",
              "</table>\n",
              "<p>155 rows × 6 columns</p>\n",
              "</div>\n",
              "      <button class=\"colab-df-convert\" onclick=\"convertToInteractive('df-1c50aeae-e00d-496c-aa91-eaa624794797')\"\n",
              "              title=\"Convert this dataframe to an interactive table.\"\n",
              "              style=\"display:none;\">\n",
              "        \n",
              "  <svg xmlns=\"http://www.w3.org/2000/svg\" height=\"24px\"viewBox=\"0 0 24 24\"\n",
              "       width=\"24px\">\n",
              "    <path d=\"M0 0h24v24H0V0z\" fill=\"none\"/>\n",
              "    <path d=\"M18.56 5.44l.94 2.06.94-2.06 2.06-.94-2.06-.94-.94-2.06-.94 2.06-2.06.94zm-11 1L8.5 8.5l.94-2.06 2.06-.94-2.06-.94L8.5 2.5l-.94 2.06-2.06.94zm10 10l.94 2.06.94-2.06 2.06-.94-2.06-.94-.94-2.06-.94 2.06-2.06.94z\"/><path d=\"M17.41 7.96l-1.37-1.37c-.4-.4-.92-.59-1.43-.59-.52 0-1.04.2-1.43.59L10.3 9.45l-7.72 7.72c-.78.78-.78 2.05 0 2.83L4 21.41c.39.39.9.59 1.41.59.51 0 1.02-.2 1.41-.59l7.78-7.78 2.81-2.81c.8-.78.8-2.07 0-2.86zM5.41 20L4 18.59l7.72-7.72 1.47 1.35L5.41 20z\"/>\n",
              "  </svg>\n",
              "      </button>\n",
              "      \n",
              "  <style>\n",
              "    .colab-df-container {\n",
              "      display:flex;\n",
              "      flex-wrap:wrap;\n",
              "      gap: 12px;\n",
              "    }\n",
              "\n",
              "    .colab-df-convert {\n",
              "      background-color: #E8F0FE;\n",
              "      border: none;\n",
              "      border-radius: 50%;\n",
              "      cursor: pointer;\n",
              "      display: none;\n",
              "      fill: #1967D2;\n",
              "      height: 32px;\n",
              "      padding: 0 0 0 0;\n",
              "      width: 32px;\n",
              "    }\n",
              "\n",
              "    .colab-df-convert:hover {\n",
              "      background-color: #E2EBFA;\n",
              "      box-shadow: 0px 1px 2px rgba(60, 64, 67, 0.3), 0px 1px 3px 1px rgba(60, 64, 67, 0.15);\n",
              "      fill: #174EA6;\n",
              "    }\n",
              "\n",
              "    [theme=dark] .colab-df-convert {\n",
              "      background-color: #3B4455;\n",
              "      fill: #D2E3FC;\n",
              "    }\n",
              "\n",
              "    [theme=dark] .colab-df-convert:hover {\n",
              "      background-color: #434B5C;\n",
              "      box-shadow: 0px 1px 3px 1px rgba(0, 0, 0, 0.15);\n",
              "      filter: drop-shadow(0px 1px 2px rgba(0, 0, 0, 0.3));\n",
              "      fill: #FFFFFF;\n",
              "    }\n",
              "  </style>\n",
              "\n",
              "      <script>\n",
              "        const buttonEl =\n",
              "          document.querySelector('#df-1c50aeae-e00d-496c-aa91-eaa624794797 button.colab-df-convert');\n",
              "        buttonEl.style.display =\n",
              "          google.colab.kernel.accessAllowed ? 'block' : 'none';\n",
              "\n",
              "        async function convertToInteractive(key) {\n",
              "          const element = document.querySelector('#df-1c50aeae-e00d-496c-aa91-eaa624794797');\n",
              "          const dataTable =\n",
              "            await google.colab.kernel.invokeFunction('convertToInteractive',\n",
              "                                                     [key], {});\n",
              "          if (!dataTable) return;\n",
              "\n",
              "          const docLinkHtml = 'Like what you see? Visit the ' +\n",
              "            '<a target=\"_blank\" href=https://colab.research.google.com/notebooks/data_table.ipynb>data table notebook</a>'\n",
              "            + ' to learn more about interactive tables.';\n",
              "          element.innerHTML = '';\n",
              "          dataTable['output_type'] = 'display_data';\n",
              "          await google.colab.output.renderOutput(dataTable, element);\n",
              "          const docLink = document.createElement('div');\n",
              "          docLink.innerHTML = docLinkHtml;\n",
              "          element.appendChild(docLink);\n",
              "        }\n",
              "      </script>\n",
              "    </div>\n",
              "  </div>\n",
              "  "
            ]
          },
          "metadata": {},
          "execution_count": 25
        }
      ]
    },
    {
      "cell_type": "markdown",
      "metadata": {
        "id": "YruPjqLVPuiB"
      },
      "source": [
        "**Challenge**: Use the [`.query()` function](https://pandas.pydata.org/pandas-docs/stable/reference/api/pandas.DataFrame.query.html) to accomplish the same thing. Create a subset for international releases that had some worldwide gross revenue, but made zero revenue in the United States. \n",
        "\n",
        "Hint: This time you'll have to use the `and` keyword."
      ]
    },
    {
      "cell_type": "code",
      "metadata": {
        "id": "Xvu-jTCwTavg",
        "colab": {
          "base_uri": "https://localhost:8080/",
          "height": 424
        },
        "outputId": "1762f628-112d-4875-e476-f84f1ff2d560"
      },
      "source": [
        "clean_df.query('USD_Worldwide_Gross!=0 and USD_Domestic_Gross==0')"
      ],
      "execution_count": null,
      "outputs": [
        {
          "output_type": "execute_result",
          "data": {
            "text/plain": [
              "      Rank Release_Date              Movie_Title  USD_Production_Budget  \\\n",
              "71    4310   1956-02-16                 Carousel                3380000   \n",
              "1579  5087   2001-02-11  Everything Put Together                 500000   \n",
              "1744  3695   2001-12-31                 The Hole                7500000   \n",
              "2155  4236   2003-12-31                  Nothing                4000000   \n",
              "2203  2513   2004-03-31                The Touch               20000000   \n",
              "...    ...          ...                      ...                    ...   \n",
              "5340  1506   2017-04-14      Queen of the Desert               36000000   \n",
              "5348  2225   2017-05-05        Chāi dàn zhuānjiā               23000000   \n",
              "5360  4832   2017-07-03                Departure                1100000   \n",
              "5372  1856   2017-08-25                Ballerina               30000000   \n",
              "5374  4237   2017-08-25     Polina danser sa vie                4000000   \n",
              "\n",
              "      USD_Worldwide_Gross  USD_Domestic_Gross  \n",
              "71                   3220                   0  \n",
              "1579                 7890                   0  \n",
              "1744             10834406                   0  \n",
              "2155                63180                   0  \n",
              "2203              5918742                   0  \n",
              "...                   ...                 ...  \n",
              "5340              1480089                   0  \n",
              "5348             58807172                   0  \n",
              "5360                27561                   0  \n",
              "5372             48048527                   0  \n",
              "5374                36630                   0  \n",
              "\n",
              "[155 rows x 6 columns]"
            ],
            "text/html": [
              "\n",
              "  <div id=\"df-74de3942-10ce-489d-bb00-3b37fd322b4e\">\n",
              "    <div class=\"colab-df-container\">\n",
              "      <div>\n",
              "<style scoped>\n",
              "    .dataframe tbody tr th:only-of-type {\n",
              "        vertical-align: middle;\n",
              "    }\n",
              "\n",
              "    .dataframe tbody tr th {\n",
              "        vertical-align: top;\n",
              "    }\n",
              "\n",
              "    .dataframe thead th {\n",
              "        text-align: right;\n",
              "    }\n",
              "</style>\n",
              "<table border=\"1\" class=\"dataframe\">\n",
              "  <thead>\n",
              "    <tr style=\"text-align: right;\">\n",
              "      <th></th>\n",
              "      <th>Rank</th>\n",
              "      <th>Release_Date</th>\n",
              "      <th>Movie_Title</th>\n",
              "      <th>USD_Production_Budget</th>\n",
              "      <th>USD_Worldwide_Gross</th>\n",
              "      <th>USD_Domestic_Gross</th>\n",
              "    </tr>\n",
              "  </thead>\n",
              "  <tbody>\n",
              "    <tr>\n",
              "      <th>71</th>\n",
              "      <td>4310</td>\n",
              "      <td>1956-02-16</td>\n",
              "      <td>Carousel</td>\n",
              "      <td>3380000</td>\n",
              "      <td>3220</td>\n",
              "      <td>0</td>\n",
              "    </tr>\n",
              "    <tr>\n",
              "      <th>1579</th>\n",
              "      <td>5087</td>\n",
              "      <td>2001-02-11</td>\n",
              "      <td>Everything Put Together</td>\n",
              "      <td>500000</td>\n",
              "      <td>7890</td>\n",
              "      <td>0</td>\n",
              "    </tr>\n",
              "    <tr>\n",
              "      <th>1744</th>\n",
              "      <td>3695</td>\n",
              "      <td>2001-12-31</td>\n",
              "      <td>The Hole</td>\n",
              "      <td>7500000</td>\n",
              "      <td>10834406</td>\n",
              "      <td>0</td>\n",
              "    </tr>\n",
              "    <tr>\n",
              "      <th>2155</th>\n",
              "      <td>4236</td>\n",
              "      <td>2003-12-31</td>\n",
              "      <td>Nothing</td>\n",
              "      <td>4000000</td>\n",
              "      <td>63180</td>\n",
              "      <td>0</td>\n",
              "    </tr>\n",
              "    <tr>\n",
              "      <th>2203</th>\n",
              "      <td>2513</td>\n",
              "      <td>2004-03-31</td>\n",
              "      <td>The Touch</td>\n",
              "      <td>20000000</td>\n",
              "      <td>5918742</td>\n",
              "      <td>0</td>\n",
              "    </tr>\n",
              "    <tr>\n",
              "      <th>...</th>\n",
              "      <td>...</td>\n",
              "      <td>...</td>\n",
              "      <td>...</td>\n",
              "      <td>...</td>\n",
              "      <td>...</td>\n",
              "      <td>...</td>\n",
              "    </tr>\n",
              "    <tr>\n",
              "      <th>5340</th>\n",
              "      <td>1506</td>\n",
              "      <td>2017-04-14</td>\n",
              "      <td>Queen of the Desert</td>\n",
              "      <td>36000000</td>\n",
              "      <td>1480089</td>\n",
              "      <td>0</td>\n",
              "    </tr>\n",
              "    <tr>\n",
              "      <th>5348</th>\n",
              "      <td>2225</td>\n",
              "      <td>2017-05-05</td>\n",
              "      <td>Chāi dàn zhuānjiā</td>\n",
              "      <td>23000000</td>\n",
              "      <td>58807172</td>\n",
              "      <td>0</td>\n",
              "    </tr>\n",
              "    <tr>\n",
              "      <th>5360</th>\n",
              "      <td>4832</td>\n",
              "      <td>2017-07-03</td>\n",
              "      <td>Departure</td>\n",
              "      <td>1100000</td>\n",
              "      <td>27561</td>\n",
              "      <td>0</td>\n",
              "    </tr>\n",
              "    <tr>\n",
              "      <th>5372</th>\n",
              "      <td>1856</td>\n",
              "      <td>2017-08-25</td>\n",
              "      <td>Ballerina</td>\n",
              "      <td>30000000</td>\n",
              "      <td>48048527</td>\n",
              "      <td>0</td>\n",
              "    </tr>\n",
              "    <tr>\n",
              "      <th>5374</th>\n",
              "      <td>4237</td>\n",
              "      <td>2017-08-25</td>\n",
              "      <td>Polina danser sa vie</td>\n",
              "      <td>4000000</td>\n",
              "      <td>36630</td>\n",
              "      <td>0</td>\n",
              "    </tr>\n",
              "  </tbody>\n",
              "</table>\n",
              "<p>155 rows × 6 columns</p>\n",
              "</div>\n",
              "      <button class=\"colab-df-convert\" onclick=\"convertToInteractive('df-74de3942-10ce-489d-bb00-3b37fd322b4e')\"\n",
              "              title=\"Convert this dataframe to an interactive table.\"\n",
              "              style=\"display:none;\">\n",
              "        \n",
              "  <svg xmlns=\"http://www.w3.org/2000/svg\" height=\"24px\"viewBox=\"0 0 24 24\"\n",
              "       width=\"24px\">\n",
              "    <path d=\"M0 0h24v24H0V0z\" fill=\"none\"/>\n",
              "    <path d=\"M18.56 5.44l.94 2.06.94-2.06 2.06-.94-2.06-.94-.94-2.06-.94 2.06-2.06.94zm-11 1L8.5 8.5l.94-2.06 2.06-.94-2.06-.94L8.5 2.5l-.94 2.06-2.06.94zm10 10l.94 2.06.94-2.06 2.06-.94-2.06-.94-.94-2.06-.94 2.06-2.06.94z\"/><path d=\"M17.41 7.96l-1.37-1.37c-.4-.4-.92-.59-1.43-.59-.52 0-1.04.2-1.43.59L10.3 9.45l-7.72 7.72c-.78.78-.78 2.05 0 2.83L4 21.41c.39.39.9.59 1.41.59.51 0 1.02-.2 1.41-.59l7.78-7.78 2.81-2.81c.8-.78.8-2.07 0-2.86zM5.41 20L4 18.59l7.72-7.72 1.47 1.35L5.41 20z\"/>\n",
              "  </svg>\n",
              "      </button>\n",
              "      \n",
              "  <style>\n",
              "    .colab-df-container {\n",
              "      display:flex;\n",
              "      flex-wrap:wrap;\n",
              "      gap: 12px;\n",
              "    }\n",
              "\n",
              "    .colab-df-convert {\n",
              "      background-color: #E8F0FE;\n",
              "      border: none;\n",
              "      border-radius: 50%;\n",
              "      cursor: pointer;\n",
              "      display: none;\n",
              "      fill: #1967D2;\n",
              "      height: 32px;\n",
              "      padding: 0 0 0 0;\n",
              "      width: 32px;\n",
              "    }\n",
              "\n",
              "    .colab-df-convert:hover {\n",
              "      background-color: #E2EBFA;\n",
              "      box-shadow: 0px 1px 2px rgba(60, 64, 67, 0.3), 0px 1px 3px 1px rgba(60, 64, 67, 0.15);\n",
              "      fill: #174EA6;\n",
              "    }\n",
              "\n",
              "    [theme=dark] .colab-df-convert {\n",
              "      background-color: #3B4455;\n",
              "      fill: #D2E3FC;\n",
              "    }\n",
              "\n",
              "    [theme=dark] .colab-df-convert:hover {\n",
              "      background-color: #434B5C;\n",
              "      box-shadow: 0px 1px 3px 1px rgba(0, 0, 0, 0.15);\n",
              "      filter: drop-shadow(0px 1px 2px rgba(0, 0, 0, 0.3));\n",
              "      fill: #FFFFFF;\n",
              "    }\n",
              "  </style>\n",
              "\n",
              "      <script>\n",
              "        const buttonEl =\n",
              "          document.querySelector('#df-74de3942-10ce-489d-bb00-3b37fd322b4e button.colab-df-convert');\n",
              "        buttonEl.style.display =\n",
              "          google.colab.kernel.accessAllowed ? 'block' : 'none';\n",
              "\n",
              "        async function convertToInteractive(key) {\n",
              "          const element = document.querySelector('#df-74de3942-10ce-489d-bb00-3b37fd322b4e');\n",
              "          const dataTable =\n",
              "            await google.colab.kernel.invokeFunction('convertToInteractive',\n",
              "                                                     [key], {});\n",
              "          if (!dataTable) return;\n",
              "\n",
              "          const docLinkHtml = 'Like what you see? Visit the ' +\n",
              "            '<a target=\"_blank\" href=https://colab.research.google.com/notebooks/data_table.ipynb>data table notebook</a>'\n",
              "            + ' to learn more about interactive tables.';\n",
              "          element.innerHTML = '';\n",
              "          dataTable['output_type'] = 'display_data';\n",
              "          await google.colab.output.renderOutput(dataTable, element);\n",
              "          const docLink = document.createElement('div');\n",
              "          docLink.innerHTML = docLinkHtml;\n",
              "          element.appendChild(docLink);\n",
              "        }\n",
              "      </script>\n",
              "    </div>\n",
              "  </div>\n",
              "  "
            ]
          },
          "metadata": {},
          "execution_count": 26
        }
      ]
    },
    {
      "cell_type": "markdown",
      "metadata": {
        "id": "EM-FTE4OZhfr"
      },
      "source": [
        "### Unreleased Films\n",
        "\n",
        "**Challenge**:\n",
        "* Identify which films were not released yet as of the time of data collection (May 1st, 2018).\n",
        "* How many films are included in the dataset that have not yet had a chance to be screened in the box office? \n",
        "* Create another DataFrame called data_clean that does not include these films. "
      ]
    },
    {
      "cell_type": "code",
      "metadata": {
        "id": "PIukYVY9Zpxu"
      },
      "source": [
        "# Date of Data Collection\n",
        "scrape_date = pd.Timestamp('2018-5-1')"
      ],
      "execution_count": null,
      "outputs": []
    },
    {
      "cell_type": "code",
      "metadata": {
        "id": "OAI0VsM3Tc6v",
        "colab": {
          "base_uri": "https://localhost:8080/"
        },
        "outputId": "acd90dfa-f4f2-496c-8737-21de00d079f3"
      },
      "source": [
        "future_releases = clean_df[clean_df['Release_Date']>=scrape_date]\n",
        "\n",
        "print(f\"There were {len(future_releases)} non-released movies by the time this data was scraped.\")"
      ],
      "execution_count": null,
      "outputs": [
        {
          "output_type": "stream",
          "name": "stdout",
          "text": [
            "There were 7 non-released movies by the time this data was scraped.\n"
          ]
        }
      ]
    },
    {
      "cell_type": "code",
      "source": [
        "# Dropping unreleased movies:\n",
        "data_clean = data.drop(future_releases.index)"
      ],
      "metadata": {
        "id": "GzjGwFMYzzDM"
      },
      "execution_count": null,
      "outputs": []
    },
    {
      "cell_type": "markdown",
      "metadata": {
        "id": "khrJcXlGZWZO"
      },
      "source": [
        "### Films that Lost Money\n",
        "\n",
        "**Challenge**: \n",
        "What is the percentage of films where the production costs exceeded the worldwide gross revenue? "
      ]
    },
    {
      "cell_type": "code",
      "metadata": {
        "id": "7uW_U9StTgvZ",
        "colab": {
          "base_uri": "https://localhost:8080/",
          "height": 424
        },
        "outputId": "9afd61ef-38e9-4e08-e596-9da26a15aeb6"
      },
      "source": [
        "losing_films = data_clean.query('USD_Production_Budget > USD_Worldwide_Gross')\n",
        "losing_films"
      ],
      "execution_count": null,
      "outputs": [
        {
          "output_type": "execute_result",
          "data": {
            "text/plain": [
              "      Rank Release_Date                       Movie_Title  \\\n",
              "1     5140   1916-05-09                       Intolerance   \n",
              "6     4630   1927-12-08                             Wings   \n",
              "8     4240   1930-01-01                     Hell's Angels   \n",
              "15    4738   1936-05-02                      Modern Times   \n",
              "17    4814   1936-10-20  Charge of the Light Brigade, The   \n",
              "...    ...          ...                               ...   \n",
              "5371  4901   2017-07-28            An Inconvenient Sequel   \n",
              "5373  2161   2017-08-25                       Tulip Fever   \n",
              "5374  4237   2017-08-25              Polina danser sa vie   \n",
              "5381    94   2017-12-05  King Arthur: Legend of the Sword   \n",
              "5383  2521   2017-12-31                The Thousand Miles   \n",
              "\n",
              "      USD_Production_Budget  USD_Worldwide_Gross  USD_Domestic_Gross  \n",
              "1                    385907                    0                   0  \n",
              "6                   2000000                    0                   0  \n",
              "8                   4000000                    0                   0  \n",
              "15                  1500000               165049              163245  \n",
              "17                  1200000                    0                   0  \n",
              "...                     ...                  ...                 ...  \n",
              "5371                1000000               130874              130874  \n",
              "5373               25000000                    0                   0  \n",
              "5374                4000000                36630                   0  \n",
              "5381              175000000            140012608            39175066  \n",
              "5383               20000000                    0                   0  \n",
              "\n",
              "[2007 rows x 6 columns]"
            ],
            "text/html": [
              "\n",
              "  <div id=\"df-2e953a68-ef18-479a-a380-2010df5cf147\">\n",
              "    <div class=\"colab-df-container\">\n",
              "      <div>\n",
              "<style scoped>\n",
              "    .dataframe tbody tr th:only-of-type {\n",
              "        vertical-align: middle;\n",
              "    }\n",
              "\n",
              "    .dataframe tbody tr th {\n",
              "        vertical-align: top;\n",
              "    }\n",
              "\n",
              "    .dataframe thead th {\n",
              "        text-align: right;\n",
              "    }\n",
              "</style>\n",
              "<table border=\"1\" class=\"dataframe\">\n",
              "  <thead>\n",
              "    <tr style=\"text-align: right;\">\n",
              "      <th></th>\n",
              "      <th>Rank</th>\n",
              "      <th>Release_Date</th>\n",
              "      <th>Movie_Title</th>\n",
              "      <th>USD_Production_Budget</th>\n",
              "      <th>USD_Worldwide_Gross</th>\n",
              "      <th>USD_Domestic_Gross</th>\n",
              "    </tr>\n",
              "  </thead>\n",
              "  <tbody>\n",
              "    <tr>\n",
              "      <th>1</th>\n",
              "      <td>5140</td>\n",
              "      <td>1916-05-09</td>\n",
              "      <td>Intolerance</td>\n",
              "      <td>385907</td>\n",
              "      <td>0</td>\n",
              "      <td>0</td>\n",
              "    </tr>\n",
              "    <tr>\n",
              "      <th>6</th>\n",
              "      <td>4630</td>\n",
              "      <td>1927-12-08</td>\n",
              "      <td>Wings</td>\n",
              "      <td>2000000</td>\n",
              "      <td>0</td>\n",
              "      <td>0</td>\n",
              "    </tr>\n",
              "    <tr>\n",
              "      <th>8</th>\n",
              "      <td>4240</td>\n",
              "      <td>1930-01-01</td>\n",
              "      <td>Hell's Angels</td>\n",
              "      <td>4000000</td>\n",
              "      <td>0</td>\n",
              "      <td>0</td>\n",
              "    </tr>\n",
              "    <tr>\n",
              "      <th>15</th>\n",
              "      <td>4738</td>\n",
              "      <td>1936-05-02</td>\n",
              "      <td>Modern Times</td>\n",
              "      <td>1500000</td>\n",
              "      <td>165049</td>\n",
              "      <td>163245</td>\n",
              "    </tr>\n",
              "    <tr>\n",
              "      <th>17</th>\n",
              "      <td>4814</td>\n",
              "      <td>1936-10-20</td>\n",
              "      <td>Charge of the Light Brigade, The</td>\n",
              "      <td>1200000</td>\n",
              "      <td>0</td>\n",
              "      <td>0</td>\n",
              "    </tr>\n",
              "    <tr>\n",
              "      <th>...</th>\n",
              "      <td>...</td>\n",
              "      <td>...</td>\n",
              "      <td>...</td>\n",
              "      <td>...</td>\n",
              "      <td>...</td>\n",
              "      <td>...</td>\n",
              "    </tr>\n",
              "    <tr>\n",
              "      <th>5371</th>\n",
              "      <td>4901</td>\n",
              "      <td>2017-07-28</td>\n",
              "      <td>An Inconvenient Sequel</td>\n",
              "      <td>1000000</td>\n",
              "      <td>130874</td>\n",
              "      <td>130874</td>\n",
              "    </tr>\n",
              "    <tr>\n",
              "      <th>5373</th>\n",
              "      <td>2161</td>\n",
              "      <td>2017-08-25</td>\n",
              "      <td>Tulip Fever</td>\n",
              "      <td>25000000</td>\n",
              "      <td>0</td>\n",
              "      <td>0</td>\n",
              "    </tr>\n",
              "    <tr>\n",
              "      <th>5374</th>\n",
              "      <td>4237</td>\n",
              "      <td>2017-08-25</td>\n",
              "      <td>Polina danser sa vie</td>\n",
              "      <td>4000000</td>\n",
              "      <td>36630</td>\n",
              "      <td>0</td>\n",
              "    </tr>\n",
              "    <tr>\n",
              "      <th>5381</th>\n",
              "      <td>94</td>\n",
              "      <td>2017-12-05</td>\n",
              "      <td>King Arthur: Legend of the Sword</td>\n",
              "      <td>175000000</td>\n",
              "      <td>140012608</td>\n",
              "      <td>39175066</td>\n",
              "    </tr>\n",
              "    <tr>\n",
              "      <th>5383</th>\n",
              "      <td>2521</td>\n",
              "      <td>2017-12-31</td>\n",
              "      <td>The Thousand Miles</td>\n",
              "      <td>20000000</td>\n",
              "      <td>0</td>\n",
              "      <td>0</td>\n",
              "    </tr>\n",
              "  </tbody>\n",
              "</table>\n",
              "<p>2007 rows × 6 columns</p>\n",
              "</div>\n",
              "      <button class=\"colab-df-convert\" onclick=\"convertToInteractive('df-2e953a68-ef18-479a-a380-2010df5cf147')\"\n",
              "              title=\"Convert this dataframe to an interactive table.\"\n",
              "              style=\"display:none;\">\n",
              "        \n",
              "  <svg xmlns=\"http://www.w3.org/2000/svg\" height=\"24px\"viewBox=\"0 0 24 24\"\n",
              "       width=\"24px\">\n",
              "    <path d=\"M0 0h24v24H0V0z\" fill=\"none\"/>\n",
              "    <path d=\"M18.56 5.44l.94 2.06.94-2.06 2.06-.94-2.06-.94-.94-2.06-.94 2.06-2.06.94zm-11 1L8.5 8.5l.94-2.06 2.06-.94-2.06-.94L8.5 2.5l-.94 2.06-2.06.94zm10 10l.94 2.06.94-2.06 2.06-.94-2.06-.94-.94-2.06-.94 2.06-2.06.94z\"/><path d=\"M17.41 7.96l-1.37-1.37c-.4-.4-.92-.59-1.43-.59-.52 0-1.04.2-1.43.59L10.3 9.45l-7.72 7.72c-.78.78-.78 2.05 0 2.83L4 21.41c.39.39.9.59 1.41.59.51 0 1.02-.2 1.41-.59l7.78-7.78 2.81-2.81c.8-.78.8-2.07 0-2.86zM5.41 20L4 18.59l7.72-7.72 1.47 1.35L5.41 20z\"/>\n",
              "  </svg>\n",
              "      </button>\n",
              "      \n",
              "  <style>\n",
              "    .colab-df-container {\n",
              "      display:flex;\n",
              "      flex-wrap:wrap;\n",
              "      gap: 12px;\n",
              "    }\n",
              "\n",
              "    .colab-df-convert {\n",
              "      background-color: #E8F0FE;\n",
              "      border: none;\n",
              "      border-radius: 50%;\n",
              "      cursor: pointer;\n",
              "      display: none;\n",
              "      fill: #1967D2;\n",
              "      height: 32px;\n",
              "      padding: 0 0 0 0;\n",
              "      width: 32px;\n",
              "    }\n",
              "\n",
              "    .colab-df-convert:hover {\n",
              "      background-color: #E2EBFA;\n",
              "      box-shadow: 0px 1px 2px rgba(60, 64, 67, 0.3), 0px 1px 3px 1px rgba(60, 64, 67, 0.15);\n",
              "      fill: #174EA6;\n",
              "    }\n",
              "\n",
              "    [theme=dark] .colab-df-convert {\n",
              "      background-color: #3B4455;\n",
              "      fill: #D2E3FC;\n",
              "    }\n",
              "\n",
              "    [theme=dark] .colab-df-convert:hover {\n",
              "      background-color: #434B5C;\n",
              "      box-shadow: 0px 1px 3px 1px rgba(0, 0, 0, 0.15);\n",
              "      filter: drop-shadow(0px 1px 2px rgba(0, 0, 0, 0.3));\n",
              "      fill: #FFFFFF;\n",
              "    }\n",
              "  </style>\n",
              "\n",
              "      <script>\n",
              "        const buttonEl =\n",
              "          document.querySelector('#df-2e953a68-ef18-479a-a380-2010df5cf147 button.colab-df-convert');\n",
              "        buttonEl.style.display =\n",
              "          google.colab.kernel.accessAllowed ? 'block' : 'none';\n",
              "\n",
              "        async function convertToInteractive(key) {\n",
              "          const element = document.querySelector('#df-2e953a68-ef18-479a-a380-2010df5cf147');\n",
              "          const dataTable =\n",
              "            await google.colab.kernel.invokeFunction('convertToInteractive',\n",
              "                                                     [key], {});\n",
              "          if (!dataTable) return;\n",
              "\n",
              "          const docLinkHtml = 'Like what you see? Visit the ' +\n",
              "            '<a target=\"_blank\" href=https://colab.research.google.com/notebooks/data_table.ipynb>data table notebook</a>'\n",
              "            + ' to learn more about interactive tables.';\n",
              "          element.innerHTML = '';\n",
              "          dataTable['output_type'] = 'display_data';\n",
              "          await google.colab.output.renderOutput(dataTable, element);\n",
              "          const docLink = document.createElement('div');\n",
              "          docLink.innerHTML = docLinkHtml;\n",
              "          element.appendChild(docLink);\n",
              "        }\n",
              "      </script>\n",
              "    </div>\n",
              "  </div>\n",
              "  "
            ]
          },
          "metadata": {},
          "execution_count": 44
        }
      ]
    },
    {
      "cell_type": "code",
      "source": [
        "losing_movies_ratio = len(losing_films)/len(data_clean)*100\n",
        "losing_movies_percentage = '{:.2f}'.format(losing_movies_ratio)\n",
        "\n",
        "print(f\"The study shows that {losing_movies_percentage}% of all movies actually lose money.\")"
      ],
      "metadata": {
        "colab": {
          "base_uri": "https://localhost:8080/"
        },
        "id": "GxiDqgXo0kVs",
        "outputId": "181b2e14-7595-4772-8f47-184ca2fd7642"
      },
      "execution_count": null,
      "outputs": [
        {
          "output_type": "stream",
          "name": "stdout",
          "text": [
            "The study shows that 37.28% of all movies actually lose money.\n"
          ]
        }
      ]
    },
    {
      "cell_type": "markdown",
      "metadata": {
        "id": "cfJUL3WwyiDy"
      },
      "source": [
        "# Seaborn for Data Viz: Bubble Charts"
      ]
    },
    {
      "cell_type": "code",
      "metadata": {
        "id": "YXa3bp1uTiSS"
      },
      "source": [
        ""
      ],
      "execution_count": null,
      "outputs": []
    },
    {
      "cell_type": "markdown",
      "metadata": {
        "id": "e7NIOiL2y3en"
      },
      "source": [
        "### Plotting Movie Releases over Time\n",
        "\n",
        "**Challenge**: Try to create the following Bubble Chart:\n",
        "\n",
        "<img src=https://i.imgur.com/8fUn9T6.png>\n",
        "\n"
      ]
    },
    {
      "cell_type": "code",
      "metadata": {
        "id": "OT0D-i3HTmsB"
      },
      "source": [
        ""
      ],
      "execution_count": null,
      "outputs": []
    },
    {
      "cell_type": "markdown",
      "metadata": {
        "id": "r_2hFz9py84b"
      },
      "source": [
        "# Converting Years to Decades Trick\n",
        "\n",
        "**Challenge**: Create a column in `data_clean` that has the decade of the release. \n",
        "\n",
        "<img src=https://i.imgur.com/0VEfagw.png width=650> \n",
        "\n",
        "Here's how: \n",
        "1. Create a [`DatetimeIndex` object](https://pandas.pydata.org/pandas-docs/stable/reference/api/pandas.DatetimeIndex.html) from the Release_Date column. \n",
        "2. Grab all the years from the `DatetimeIndex` object using the `.year` property.\n",
        "<img src=https://i.imgur.com/5m06Ach.png width=650>\n",
        "3. Use floor division `//` to convert the year data to the decades of the films.\n",
        "4. Add the decades as a `Decade` column to the `data_clean` DataFrame."
      ]
    },
    {
      "cell_type": "code",
      "metadata": {
        "id": "lak08IPMTn-j"
      },
      "source": [
        ""
      ],
      "execution_count": null,
      "outputs": []
    },
    {
      "cell_type": "markdown",
      "metadata": {
        "id": "q-X7NK_9zIz9"
      },
      "source": [
        "### Separate the \"old\" (before 1969) and \"New\" (1970s onwards) Films\n",
        "\n",
        "**Challenge**: Create two new DataFrames: `old_films` and `new_films`\n",
        "* `old_films` should include all the films before 1969 (up to and including 1969)\n",
        "* `new_films` should include all the films from 1970 onwards\n",
        "* How many films were released prior to 1970?\n",
        "* What was the most expensive film made prior to 1970?"
      ]
    },
    {
      "cell_type": "code",
      "metadata": {
        "id": "qe93nMcBTqQz"
      },
      "source": [
        ""
      ],
      "execution_count": null,
      "outputs": []
    },
    {
      "cell_type": "markdown",
      "metadata": {
        "id": "msXABzF3zW7e"
      },
      "source": [
        "# Seaborn Regression Plots"
      ]
    },
    {
      "cell_type": "code",
      "metadata": {
        "id": "2ajPcWMJTsom"
      },
      "source": [
        ""
      ],
      "execution_count": null,
      "outputs": []
    },
    {
      "cell_type": "markdown",
      "metadata": {
        "id": "6k4MeLmxWFwX"
      },
      "source": [
        "**Challenge**: Use Seaborn's `.regplot()` to show the scatter plot and linear regression line against the `new_films`. \n",
        "<br>\n",
        "<br>\n",
        "Style the chart\n",
        "\n",
        "* Put the chart on a `'darkgrid'`.\n",
        "* Set limits on the axes so that they don't show negative values.\n",
        "* Label the axes on the plot \"Revenue in \\$ billions\" and \"Budget in \\$ millions\".\n",
        "* Provide HEX colour codes for the plot and the regression line. Make the dots dark blue (#2f4b7c) and the line orange (#ff7c43).\n",
        "\n",
        "Interpret the chart\n",
        "\n",
        "* Do our data points for the new films align better or worse with the linear regression than for our older films?\n",
        "* Roughly how much would a film with a budget of $150 million make according to the regression line?"
      ]
    },
    {
      "cell_type": "code",
      "metadata": {
        "id": "6cOVsxqvTui2"
      },
      "source": [
        ""
      ],
      "execution_count": null,
      "outputs": []
    },
    {
      "cell_type": "markdown",
      "metadata": {
        "id": "Q1SUPPMAzlVK"
      },
      "source": [
        "# Run Your Own Regression with scikit-learn\n",
        "\n",
        "$$ REV \\hat ENUE = \\theta _0 + \\theta _1 BUDGET$$"
      ]
    },
    {
      "cell_type": "code",
      "metadata": {
        "id": "QmX-wMMLTwBW"
      },
      "source": [
        ""
      ],
      "execution_count": null,
      "outputs": []
    },
    {
      "cell_type": "markdown",
      "metadata": {
        "id": "o23E9iT1RHQ1"
      },
      "source": [
        "**Challenge**: Run a linear regression for the `old_films`. Calculate the intercept, slope and r-squared. How much of the variance in movie revenue does the linear model explain in this case?"
      ]
    },
    {
      "cell_type": "code",
      "metadata": {
        "id": "Sd43DJNDT0yQ"
      },
      "source": [
        ""
      ],
      "execution_count": null,
      "outputs": []
    },
    {
      "cell_type": "code",
      "metadata": {
        "id": "ygKsLBx5Rs7t"
      },
      "source": [
        ""
      ],
      "execution_count": null,
      "outputs": []
    },
    {
      "cell_type": "markdown",
      "metadata": {
        "id": "hoD3PeG75p78"
      },
      "source": [
        "# Use Your Model to Make a Prediction\n",
        "\n",
        "We just estimated the slope and intercept! Remember that our Linear Model has the following form:\n",
        "\n",
        "$$ REV \\hat ENUE = \\theta _0 + \\theta _1 BUDGET$$\n",
        "\n",
        "**Challenge**:  How much global revenue does our model estimate for a film with a budget of $350 million? "
      ]
    },
    {
      "cell_type": "code",
      "metadata": {
        "id": "fX4I4h5i5rgF"
      },
      "source": [
        ""
      ],
      "execution_count": null,
      "outputs": []
    },
    {
      "cell_type": "code",
      "metadata": {
        "id": "fB2Yp8ln5qfO"
      },
      "source": [
        ""
      ],
      "execution_count": null,
      "outputs": []
    }
  ]
}